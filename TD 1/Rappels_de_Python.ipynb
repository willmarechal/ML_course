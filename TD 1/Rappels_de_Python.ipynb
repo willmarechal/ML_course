{
 "cells": [
  {
   "cell_type": "markdown",
   "id": "020ceb24-7416-46c3-ae02-e3cd0cbbdcf3",
   "metadata": {},
   "source": [
    "# Rappels de Python"
   ]
  },
  {
   "cell_type": "markdown",
   "id": "e2a8e008-0aed-4e44-ac8e-0cd327d3215c",
   "metadata": {},
   "source": [
    "## Les bases de Python"
   ]
  },
  {
   "cell_type": "markdown",
   "id": "9e72fb98-36de-425b-9d49-06a8302143b7",
   "metadata": {},
   "source": [
    "En Python, les commandes sont séparées par un saut de ligne (pas de ';' que vous pourriez oublier), et les contextes (à l'intérieur / à l'extérieur d'une instruction if, à l'intérieur / à l'extérieur d'une fonction) sont identifiés par des tabulations ou des espaces.\n",
    "\n",
    "Le nombre d'espaces doit être un multiple de deux. L'utilisation la plus courante est de 4 espaces.\n",
    "\n",
    "Les commentaires commencent par #, mais les descriptions longues peuvent être placées entre guillemets triples"
   ]
  },
  {
   "cell_type": "code",
   "execution_count": 5,
   "id": "87396662-cd47-412b-a78e-f22b2b76ca61",
   "metadata": {},
   "outputs": [
    {
     "name": "stdout",
     "output_type": "stream",
     "text": [
      "6\n",
      "<function mult at 0x7f3c742403a0>\n"
     ]
    }
   ],
   "source": [
    "\"\"\" 'def' means you are writing a new function, 'mult' is its name, 'x' and 'y' are the names of the two input parameters,\n",
    "':' is mandatory and means that the following indented block is the function definitions \"\"\"\n",
    "def mult(x, y):\n",
    "    \"\"\"Multiplies two numbers and returns the result\"\"\"  # It is a good practice (but not mandatory) to include a docstring describing what your function does\n",
    "    z = x * y\n",
    "    return z\n",
    "\n",
    "print(mult(2, 3))  # 'print' is Python's function that sends data to standard output.\n",
    "print(mult)  #  You can give any kind of object to 'print', it will be casted as a string."
   ]
  },
  {
   "cell_type": "code",
   "execution_count": 7,
   "id": "11a8ede8",
   "metadata": {},
   "outputs": [],
   "source": [
    "a = mult(1, 2)"
   ]
  },
  {
   "cell_type": "code",
   "execution_count": 8,
   "id": "f2752d4d",
   "metadata": {},
   "outputs": [
    {
     "name": "stdout",
     "output_type": "stream",
     "text": [
      "2\n"
     ]
    }
   ],
   "source": [
    "print(a)"
   ]
  },
  {
   "cell_type": "markdown",
   "id": "daf4b289-4025-4eea-a815-f907f82c8bd3",
   "metadata": {},
   "source": [
    "### Binding (=assignation d'une valeur à une variable) : la saisie est facultative"
   ]
  },
  {
   "cell_type": "code",
   "execution_count": 11,
   "id": "1ff8d812-c86c-439c-b9b5-486c18b36e99",
   "metadata": {},
   "outputs": [
    {
     "name": "stdout",
     "output_type": "stream",
     "text": [
      "x: 3\n",
      "y: 2\n",
      "z: 5\n",
      "z: 1.5\n",
      "z: 5\n"
     ]
    }
   ],
   "source": [
    "y = 2  # y is also an integer\n",
    "x = int(3.1)  # x is an integer\n",
    "print(\"x:\", x)\n",
    "print(\"y:\", y)\n",
    "z: int = x + y  # Here the ': int' synthax serves only as a information, for readability purpose. It has zero impact on the execution of the code\n",
    "print(\"z:\", z)\n",
    "z = x / y  # Variables can be reassigned at will. Here z is a float\n",
    "print(\"z:\", z)\n",
    "z: int = x + y  # writing 'float' while the actual type is 'int' will not cause a crash. It is fake news however, so don't do that.\n",
    "print(\"z:\", z)"
   ]
  },
  {
   "cell_type": "code",
   "execution_count": 12,
   "id": "894a6be7-2717-4aa1-90e4-384043bd3729",
   "metadata": {},
   "outputs": [
    {
     "name": "stdout",
     "output_type": "stream",
     "text": [
      "<class 'int'>\n",
      "<class 'int'>\n",
      "<class 'int'>\n"
     ]
    }
   ],
   "source": [
    "print(type(x))  # 'type' returns the class of 'x', here the object 'int'\n",
    "print(type(y))  # here also 'int'\n",
    "print(type(z))  # and here 'float'"
   ]
  },
  {
   "cell_type": "markdown",
   "id": "7216ec5b-0ff6-4a14-8813-d5107a4b0c4f",
   "metadata": {},
   "source": [
    "### Quelques exemples de déclaration"
   ]
  },
  {
   "cell_type": "code",
   "execution_count": 22,
   "id": "c0a1120e-5978-4ff9-b145-ed08210f29bd",
   "metadata": {},
   "outputs": [
    {
     "name": "stdout",
     "output_type": "stream",
     "text": [
      "Hello world True True\n",
      "x: [1, 2, 3, 1, 'a'] 1 a [2, 3, 1] [1, 2, 3, 1] [2, 3, 1, 'a']\n",
      "['a', 1, 3, 2, 1]\n",
      "l: [1, 2, 3, 1]\n",
      "x: 1 -- y: 2\n",
      "x: 3 -- y: 4\n"
     ]
    }
   ],
   "source": [
    "#  Assigning a string :\n",
    "mystring = 'Hello world'\n",
    "myotherstring = \"Hello world\"\n",
    "mythirdstring = \"\"\"Hello world\"\"\"\n",
    "print(mystring, mystring == myotherstring, mystring == mythirdstring)\n",
    "\n",
    "#  Chain assignment : \n",
    "x = y = 0\n",
    "\n",
    "# Assigning a float :\n",
    "x = 1.2\n",
    "\n",
    "# Assigning a bool : \n",
    "x = False\n",
    "\n",
    "# Assigning and accessing a list :\n",
    "x = [1, 2, 3, 1, \"a\"]\n",
    "print(\"x:\", x, x[0], x[-1], x[1:-1], x[:-1], x[1:])\n",
    "\n",
    "# Reversing a list\n",
    "print(x[::-1])\n",
    "\n",
    "# List comprehension (fast!)\n",
    "l = [i for i in x if isinstance(i, int)]\n",
    "print(\"l:\", l)\n",
    "\n",
    "# Assigning several values at once:\n",
    "x, y = 1, 2\n",
    "print(\"x:\", x, \"-- y:\", y)\n",
    "l = [3, 4]\n",
    "x, y = l\n",
    "print(\"x:\", x, \"-- y:\", y)"
   ]
  },
  {
   "cell_type": "markdown",
   "id": "a79751e4-e550-4b49-9325-d5d27bbdb584",
   "metadata": {},
   "source": [
    "## Mutable vs Immutable\n",
    "Un objet \"mutable\" peut être modifié sans recréer un nouvel objet. Un objet immuable est... le contraire."
   ]
  },
  {
   "cell_type": "code",
   "execution_count": 29,
   "id": "900c2cdb-e9c9-44af-8642-91468435838e",
   "metadata": {},
   "outputs": [
    {
     "name": "stdout",
     "output_type": "stream",
     "text": [
      "x, y : 2 1\n",
      "l, m: [1, 2, 3, 4, 5] [1, 2, 3, 4, 5]\n",
      "modified l: [1, 2, 3, 4, 5, 5]\n",
      "modified m: [1, 2, 3, 4, 5, 5]\n",
      "not modified: [1, 2, 3, 4, 5, 5]\n"
     ]
    }
   ],
   "source": [
    "#  Immutable objects (strings, ints, floats, bools),\n",
    "x = 1\n",
    "y = x\n",
    "x += 1  # Actually creates a new object that is 1 + 1 and assigns it to x\n",
    "print(\"x, y :\", x, y)  # x != y\n",
    "\n",
    "#  Mutable objects (everything else or close).\n",
    "l = [1, 2, 3]\n",
    "m = l\n",
    "l.append(4)\n",
    "m.append(5)\n",
    "print(\"l, m:\", l, m)  # l == m\n",
    "\n",
    "# WARNING : passing a list to a function must be done knowing that it is a mutable object :\n",
    "def f(l_):\n",
    "    l_.append(5)\n",
    "f(l)\n",
    "print(\"modified l:\", l)\n",
    "print(\"modified m:\", m)\n",
    "def f(l_):\n",
    "    l_ = [1, 2, 3, 4, 5, 6]  # Here, assign a new objects to l. Since it is not return, the initial object given to f remains unchanged.\n",
    "f(l)\n",
    "print(\"not modified:\", l)"
   ]
  },
  {
   "cell_type": "code",
   "execution_count": 6,
   "id": "31dba46c-ae69-4453-985b-713e36b47bab",
   "metadata": {},
   "outputs": [
    {
     "name": "stdout",
     "output_type": "stream",
     "text": [
      "s: a\n"
     ]
    }
   ],
   "source": [
    "# String can be accessed like lists : \n",
    "s =\"ab\"\n",
    "print(\"s:\", s[0])"
   ]
  },
  {
   "cell_type": "code",
   "execution_count": 30,
   "id": "f610a961-8811-4829-ac2e-5f40b842e73f",
   "metadata": {},
   "outputs": [
    {
     "ename": "NameError",
     "evalue": "name 's' is not defined",
     "output_type": "error",
     "traceback": [
      "\u001b[0;31m---------------------------------------------------------------------------\u001b[0m",
      "\u001b[0;31mNameError\u001b[0m                                 Traceback (most recent call last)",
      "\u001b[0;32m/tmp/ipykernel_7921/3780248659.py\u001b[0m in \u001b[0;36m<module>\u001b[0;34m\u001b[0m\n\u001b[1;32m      1\u001b[0m \u001b[0;31m# This however produces an error : strings are immutable\u001b[0m\u001b[0;34m\u001b[0m\u001b[0;34m\u001b[0m\u001b[0;34m\u001b[0m\u001b[0m\n\u001b[0;32m----> 2\u001b[0;31m \u001b[0ms\u001b[0m\u001b[0;34m[\u001b[0m\u001b[0;36m0\u001b[0m\u001b[0;34m]\u001b[0m \u001b[0;34m=\u001b[0m \u001b[0;34m\"c\"\u001b[0m\u001b[0;34m\u001b[0m\u001b[0;34m\u001b[0m\u001b[0m\n\u001b[0m",
      "\u001b[0;31mNameError\u001b[0m: name 's' is not defined"
     ]
    }
   ],
   "source": [
    "# This however produces an error : strings are immutable\n",
    "s[0] = \"c\""
   ]
  },
  {
   "cell_type": "code",
   "execution_count": 32,
   "id": "90c54da5",
   "metadata": {},
   "outputs": [
    {
     "name": "stdout",
     "output_type": "stream",
     "text": [
      "['coucou', 2, 3, 4, 5, 5]\n"
     ]
    }
   ],
   "source": [
    "l[0] = \"coucou\"\n",
    "print(l)"
   ]
  },
  {
   "cell_type": "markdown",
   "id": "bbf4b087-e044-4acb-91b8-d78a9e10206c",
   "metadata": {},
   "source": [
    "## Scopes\n",
    "Les variables créées à l'intérieur d'une fonction n'existent pas en dehors de celle-ci. Ce n'est pas le cas pour if, for, while et d'autres contextes similaires."
   ]
  },
  {
   "cell_type": "code",
   "execution_count": 33,
   "id": "6a88364c-5859-48ee-83f5-254ed4e8ae00",
   "metadata": {},
   "outputs": [
    {
     "name": "stdout",
     "output_type": "stream",
     "text": [
      "inside: 2\n",
      "inside: 1\n",
      "outside: 0\n",
      "outside: 1\n",
      "I arrived here\n",
      "after if: 3\n"
     ]
    }
   ],
   "source": [
    "x = 0\n",
    "y = 1\n",
    "\n",
    "def f2():\n",
    "    x = 2\n",
    "    print(\"inside:\", x)\n",
    "    print(\"inside:\", y)\n",
    "    \n",
    "f2()\n",
    "\n",
    "print(\"outside:\", x)\n",
    "print(\"outside:\", y)\n",
    "\n",
    "if x == 0:  # True here\n",
    "    y = 3\n",
    "    print(\"I arrived here\")\n",
    "print(\"after if:\", y)"
   ]
  },
  {
   "cell_type": "markdown",
   "id": "0149a23b-8e2e-4f57-940f-807ca68a26be",
   "metadata": {},
   "source": [
    "Il est possible de déclarer spécifiquement une variable comme globale pour la modifier à l'intérieur d'une fonction :"
   ]
  },
  {
   "cell_type": "code",
   "execution_count": 34,
   "id": "108a42bf-14e2-4ee1-aa61-174b25dbb685",
   "metadata": {},
   "outputs": [
    {
     "name": "stdout",
     "output_type": "stream",
     "text": [
      "inside: 2\n",
      "inside: 1\n",
      "outside: 2\n",
      "outside: 1\n",
      "after if: 1\n"
     ]
    }
   ],
   "source": [
    "x = 0\n",
    "y = 1\n",
    "\n",
    "def f2():\n",
    "    global x\n",
    "    x = 2\n",
    "    print(\"inside:\", x)\n",
    "    print(\"inside:\", y)\n",
    "    \n",
    "f2()\n",
    "print(\"outside:\", x)\n",
    "print(\"outside:\", y)\n",
    "\n",
    "if x == 0:  # False here\n",
    "    y = 3\n",
    "    print(\"I arrived here\")\n",
    "print(\"after if:\", y)"
   ]
  },
  {
   "cell_type": "markdown",
   "id": "1194453c-8272-402b-ab0d-341c53d1df49",
   "metadata": {},
   "source": [
    "## Quelques contextes utiles"
   ]
  },
  {
   "cell_type": "code",
   "execution_count": 35,
   "id": "c224015e-32db-4ee6-aa0a-33be007ac77a",
   "metadata": {},
   "outputs": [
    {
     "name": "stdout",
     "output_type": "stream",
     "text": [
      "x is zero\n",
      "y is not two\n",
      "y is not two\n",
      "x is not in list l\n",
      "y is in list l\n",
      "x is lower or equal to y and both are strictly lower than two\n"
     ]
    }
   ],
   "source": [
    "x = 0\n",
    "y = 1\n",
    "l = [1, 2]\n",
    "# y = 2\n",
    "if x == 0:\n",
    "    print(\"x is zero\")\n",
    "else:\n",
    "    print(\"x is not zero\")\n",
    "    \n",
    "if y != 2:\n",
    "    print(\"y is not two\")\n",
    "    \n",
    "if not y == 2:  # works, but prefer !=\n",
    "    print(\"y is not two\")\n",
    "    \n",
    "if x not in l:\n",
    "    print(\"x is not in list l\")\n",
    "    \n",
    "if y in l:\n",
    "    print(\"y is in list l\")\n",
    "\n",
    "if x <= y < 2:\n",
    "    print(\"x is lower or equal to y and both are strictly lower than two\")\n",
    "elif x <= y:\n",
    "    print(\"x and y are not strictly inferior to two, but x is inferior or equal to y\")\n"
   ]
  },
  {
   "cell_type": "code",
   "execution_count": null,
   "id": "cd99b63f-318a-4b8c-b102-39f22606a5d9",
   "metadata": {},
   "outputs": [],
   "source": [
    "x = 0\n",
    "while x < 10:\n",
    "    print(x)\n",
    "    x += 1"
   ]
  },
  {
   "cell_type": "code",
   "execution_count": 42,
   "id": "de1e9d07-aa0c-4500-b738-4be473292cf5",
   "metadata": {},
   "outputs": [
    {
     "name": "stdout",
     "output_type": "stream",
     "text": [
      "[0, 1, 2, 3, 4, 5, 6, 7, 8, 9]\n",
      "[0, 1, 2, 3, 4, 5, 6, 7, 8, 9]\n",
      "[5, 6, 7, 8, 9]\n",
      "[0, 3, 6, 9]\n",
      "0\n",
      "3\n",
      "6\n",
      "9\n"
     ]
    }
   ],
   "source": [
    "l = []\n",
    "for i in range(0, 10):\n",
    "    l.append(i)\n",
    "print(l)\n",
    "\n",
    "l = []\n",
    "for i in range(10):\n",
    "    l.append(i)\n",
    "print(l)\n",
    "\n",
    "l = []\n",
    "for i in range(5, 10):\n",
    "    l.append(i)\n",
    "print(l)\n",
    "\n",
    "l = []\n",
    "for i in range(0, 10, 3):\n",
    "    l.append(i)\n",
    "print(l)\n",
    "\n",
    "for elem in l:\n",
    "    print(elem)"
   ]
  },
  {
   "cell_type": "code",
   "execution_count": 41,
   "id": "a7643f63",
   "metadata": {},
   "outputs": [
    {
     "data": {
      "text/plain": [
       "[1, 3, 5, 7, 9]"
      ]
     },
     "execution_count": 41,
     "metadata": {},
     "output_type": "execute_result"
    }
   ],
   "source": [
    "list(range(1, 10, 2))"
   ]
  },
  {
   "cell_type": "markdown",
   "id": "dfcc938c-536a-4211-bc2e-603b676238a0",
   "metadata": {},
   "source": [
    "## Operations"
   ]
  },
  {
   "cell_type": "code",
   "execution_count": 43,
   "id": "7e3a09d9-b8aa-40c4-b138-a3d27fa9081f",
   "metadata": {},
   "outputs": [
    {
     "name": "stdout",
     "output_type": "stream",
     "text": [
      "addition: 14\n",
      "product: 33\n",
      "division: 3.6666666666666665\n",
      "power 1331\n",
      "sqrt 1.7320508075688772\n",
      "remainder 2 (dividing 11 by 3 does not give an integer, and the remainder is 2)\n",
      "floor division 3 (floor value of y/x, same as int(y/x))\n",
      "The last two at once: (3, 2)\n"
     ]
    }
   ],
   "source": [
    "x = 3\n",
    "y = 11\n",
    "print(\"addition:\", x+y)\n",
    "print(\"product:\", x*y)\n",
    "print(\"division:\", y/x)\n",
    "print(\"power\", y ** x)\n",
    "print(\"sqrt\", x ** (0.5))\n",
    "print(\"remainder\", y%x, \"(dividing 11 by 3 does not give an integer, and the remainder is 2)\")\n",
    "print(\"floor division\", y//x, \"(floor value of y/x, same as int(y/x))\")\n",
    "print(\"The last two at once:\", divmod(y, x))"
   ]
  },
  {
   "cell_type": "markdown",
   "id": "ca03bff3-1846-4094-8741-4f65d46f9978",
   "metadata": {},
   "source": [
    "## Tout est objet. Mais qu'est-ce qu'un objet ?\n",
    "En Python, tout est un objet, même les ints, les floats ou même les bools. Et type(x) renvoie la classe sous-jacente de x.\n",
    "\n",
    "Un objet possède ses propres propriétés (appelées \"attributs\", qui sont des variables) et son propre comportement (appelé \"méthodes\", qui sont des fonctions).\n",
    "\n",
    "Une classe est un plan des objets. Prenons l'exemple d'un jeu d'arcade : il s'agit d'une machine dotée de boutons (nos \"méthodes\"). Lorsque l'on appuie sur les boutons, certaines variables internes (attributs) sont modifiées et d'autres sont affichées (par exemple, votre score actuel dans le jeu).\n",
    "\n",
    "Voici un exemple d'implémentation d'une classe (très basique) pour créer des objets numériques complexes."
   ]
  },
  {
   "cell_type": "code",
   "execution_count": 51,
   "id": "e152cd72-1672-49af-ad9d-0104b9a55ade",
   "metadata": {},
   "outputs": [
    {
     "name": "stdout",
     "output_type": "stream",
     "text": [
      "5.0\n",
      "3+4i\n",
      "5.0\n",
      "3-4i\n"
     ]
    },
    {
     "ename": "TypeError",
     "evalue": "'>=' not supported between instances of 'Complex' and 'Complex'",
     "output_type": "error",
     "traceback": [
      "\u001b[0;31m---------------------------------------------------------------------------\u001b[0m",
      "\u001b[0;31mTypeError\u001b[0m                                 Traceback (most recent call last)",
      "\u001b[0;32m/tmp/ipykernel_7921/3402249530.py\u001b[0m in \u001b[0;36m<module>\u001b[0;34m\u001b[0m\n\u001b[1;32m     26\u001b[0m \u001b[0mprint\u001b[0m\u001b[0;34m(\u001b[0m\u001b[0mz\u001b[0m\u001b[0;34m)\u001b[0m\u001b[0;34m\u001b[0m\u001b[0;34m\u001b[0m\u001b[0m\n\u001b[1;32m     27\u001b[0m \u001b[0mx\u001b[0m \u001b[0;34m=\u001b[0m \u001b[0mComplex\u001b[0m\u001b[0;34m(\u001b[0m\u001b[0;36m1\u001b[0m\u001b[0;34m,\u001b[0m \u001b[0;36m2\u001b[0m\u001b[0;34m)\u001b[0m\u001b[0;34m\u001b[0m\u001b[0;34m\u001b[0m\u001b[0m\n\u001b[0;32m---> 28\u001b[0;31m \u001b[0mz\u001b[0m \u001b[0;34m>=\u001b[0m \u001b[0mx\u001b[0m\u001b[0;34m\u001b[0m\u001b[0;34m\u001b[0m\u001b[0m\n\u001b[0m",
      "\u001b[0;31mTypeError\u001b[0m: '>=' not supported between instances of 'Complex' and 'Complex'"
     ]
    }
   ],
   "source": [
    "class Complex:  # 'class' means your are defining... a class. 'Complex' will be its name. By convention, use a capital first letter\n",
    "    \n",
    "    def __init__(self, x, y):  # __init__ is called a the creator. Every classes MUST have an __init__ method. It is what happens when the object is created.\n",
    "        self.a = x\n",
    "        self.b = y\n",
    "    \n",
    "    def get_norm(self):  # All class methods must start by 'self', which points to the current instance of the class.\n",
    "        return (self.a ** 2 + self.b ** 2) ** (1/2)\n",
    "\n",
    "    def __str__(self):\n",
    "        # Methods starting and ending by __ are called 'magic methods', and are very powerful ways to implement objects.\n",
    "        # This one tells Python what to do when the object is casted into a string.\n",
    "        if self.b >= 0:\n",
    "            return f\"{self.a}+{self.b}i\"\n",
    "        else:\n",
    "            return f\"{self.a}{self.b}i\"\n",
    "    \n",
    "#     def __ge__(self, other):\n",
    "#         raise ValueError(\"Can not compare Complex numbers\")\n",
    "\n",
    "z = Complex(3, 4)\n",
    "print(z.get_norm())\n",
    "print(z)\n",
    "z.b = -4\n",
    "print(z.get_norm())\n",
    "print(z)\n",
    "x = Complex(1, 2)\n",
    "z >= x"
   ]
  },
  {
   "cell_type": "markdown",
   "id": "e7a8d5b9-0f3a-4e20-9b45-1382d21921c0",
   "metadata": {},
   "source": [
    "Ce cours est encore très basique : nous n'avons pas dit à Python ce qu'il doit faire lorsque deux nombres complexes sont ajoutés, soustraits, etc...\n",
    "\n",
    "### Accéder à la liste des attributs et des méthodes d'un objet"
   ]
  },
  {
   "cell_type": "code",
   "execution_count": 46,
   "id": "d27c9eed-435e-475a-9cb4-4f2da399ae14",
   "metadata": {},
   "outputs": [
    {
     "data": {
      "text/plain": [
       "['__class__',\n",
       " '__delattr__',\n",
       " '__dict__',\n",
       " '__dir__',\n",
       " '__doc__',\n",
       " '__eq__',\n",
       " '__format__',\n",
       " '__ge__',\n",
       " '__getattribute__',\n",
       " '__gt__',\n",
       " '__hash__',\n",
       " '__init__',\n",
       " '__init_subclass__',\n",
       " '__le__',\n",
       " '__lt__',\n",
       " '__module__',\n",
       " '__ne__',\n",
       " '__new__',\n",
       " '__reduce__',\n",
       " '__reduce_ex__',\n",
       " '__repr__',\n",
       " '__setattr__',\n",
       " '__sizeof__',\n",
       " '__str__',\n",
       " '__subclasshook__',\n",
       " '__weakref__',\n",
       " 'a',\n",
       " 'b',\n",
       " 'get_norm']"
      ]
     },
     "execution_count": 46,
     "metadata": {},
     "output_type": "execute_result"
    }
   ],
   "source": [
    "dir(z)"
   ]
  },
  {
   "cell_type": "markdown",
   "id": "150605f7-4523-4ab1-a575-f3e95665f6ec",
   "metadata": {},
   "source": [
    "Vous pouvez voir que notre classe implémente beaucoup plus de méthodes que les 3 que nous avons définies. C'est parce que chaque classe que nous créons dérive implicitement de la classe de base Python \"Object\", qui implémente un grand nombre de méthodes de base, que nous pouvons surcharger. C'est ce que nous avons fait lorsque nous avons redéfini \\_str\\_\\_\\_.\n",
    "\n",
    "Examinons la méthode dir() d'un objet entier :"
   ]
  },
  {
   "cell_type": "code",
   "execution_count": null,
   "id": "f62e027f-d8e8-4089-9dc7-2bb111529131",
   "metadata": {},
   "outputs": [],
   "source": [
    "dir(1)"
   ]
  },
  {
   "cell_type": "markdown",
   "id": "d2ce0c64-b887-428a-a61f-30f5916a02d8",
   "metadata": {},
   "source": [
    "Vous pouvez jouer un peu avec ces différentes méthodes pour voir ce qu'elles font :"
   ]
  },
  {
   "cell_type": "code",
   "execution_count": 52,
   "id": "6405b9f1-e31f-4fda-a72e-d8cac88df633",
   "metadata": {},
   "outputs": [
    {
     "data": {
      "text/plain": [
       "3"
      ]
     },
     "execution_count": 52,
     "metadata": {},
     "output_type": "execute_result"
    }
   ],
   "source": [
    "x = 4  # in binary, 4 is 100, so bit length is 3\n",
    "x.bit_length()"
   ]
  },
  {
   "cell_type": "code",
   "execution_count": null,
   "id": "1ec30ee3",
   "metadata": {},
   "outputs": [],
   "source": []
  }
 ],
 "metadata": {
  "kernelspec": {
   "display_name": "Python 3 (ipykernel)",
   "language": "python",
   "name": "python3"
  },
  "language_info": {
   "codemirror_mode": {
    "name": "ipython",
    "version": 3
   },
   "file_extension": ".py",
   "mimetype": "text/x-python",
   "name": "python",
   "nbconvert_exporter": "python",
   "pygments_lexer": "ipython3",
   "version": "3.8.9"
  }
 },
 "nbformat": 4,
 "nbformat_minor": 5
}
