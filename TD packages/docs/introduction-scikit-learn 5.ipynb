{
 "cells": [
  {
   "cell_type": "code",
   "execution_count": 1,
   "metadata": {},
   "outputs": [],
   "source": [
    "import datetime\n",
    "import numpy as np\n",
    "import pandas as pd\n",
    "from sklearn.model_selection import train_test_split"
   ]
  },
  {
   "cell_type": "code",
   "execution_count": 2,
   "metadata": {},
   "outputs": [
    {
     "data": {
      "text/html": [
       "<div>\n",
       "<style scoped>\n",
       "    .dataframe tbody tr th:only-of-type {\n",
       "        vertical-align: middle;\n",
       "    }\n",
       "\n",
       "    .dataframe tbody tr th {\n",
       "        vertical-align: top;\n",
       "    }\n",
       "\n",
       "    .dataframe thead th {\n",
       "        text-align: right;\n",
       "    }\n",
       "</style>\n",
       "<table border=\"1\" class=\"dataframe\">\n",
       "  <thead>\n",
       "    <tr style=\"text-align: right;\">\n",
       "      <th></th>\n",
       "      <th>age</th>\n",
       "      <th>sex</th>\n",
       "      <th>cp</th>\n",
       "      <th>trestbps</th>\n",
       "      <th>chol</th>\n",
       "      <th>fbs</th>\n",
       "      <th>restecg</th>\n",
       "      <th>thalach</th>\n",
       "      <th>exang</th>\n",
       "      <th>oldpeak</th>\n",
       "      <th>slope</th>\n",
       "      <th>ca</th>\n",
       "      <th>thal</th>\n",
       "      <th>target</th>\n",
       "    </tr>\n",
       "  </thead>\n",
       "  <tbody>\n",
       "    <tr>\n",
       "      <th>0</th>\n",
       "      <td>63</td>\n",
       "      <td>1</td>\n",
       "      <td>3</td>\n",
       "      <td>145</td>\n",
       "      <td>233</td>\n",
       "      <td>1</td>\n",
       "      <td>0</td>\n",
       "      <td>150</td>\n",
       "      <td>0</td>\n",
       "      <td>2.3</td>\n",
       "      <td>0</td>\n",
       "      <td>0</td>\n",
       "      <td>1</td>\n",
       "      <td>1</td>\n",
       "    </tr>\n",
       "    <tr>\n",
       "      <th>1</th>\n",
       "      <td>37</td>\n",
       "      <td>1</td>\n",
       "      <td>2</td>\n",
       "      <td>130</td>\n",
       "      <td>250</td>\n",
       "      <td>0</td>\n",
       "      <td>1</td>\n",
       "      <td>187</td>\n",
       "      <td>0</td>\n",
       "      <td>3.5</td>\n",
       "      <td>0</td>\n",
       "      <td>0</td>\n",
       "      <td>2</td>\n",
       "      <td>1</td>\n",
       "    </tr>\n",
       "    <tr>\n",
       "      <th>2</th>\n",
       "      <td>41</td>\n",
       "      <td>0</td>\n",
       "      <td>1</td>\n",
       "      <td>130</td>\n",
       "      <td>204</td>\n",
       "      <td>0</td>\n",
       "      <td>0</td>\n",
       "      <td>172</td>\n",
       "      <td>0</td>\n",
       "      <td>1.4</td>\n",
       "      <td>2</td>\n",
       "      <td>0</td>\n",
       "      <td>2</td>\n",
       "      <td>1</td>\n",
       "    </tr>\n",
       "    <tr>\n",
       "      <th>3</th>\n",
       "      <td>56</td>\n",
       "      <td>1</td>\n",
       "      <td>1</td>\n",
       "      <td>120</td>\n",
       "      <td>236</td>\n",
       "      <td>0</td>\n",
       "      <td>1</td>\n",
       "      <td>178</td>\n",
       "      <td>0</td>\n",
       "      <td>0.8</td>\n",
       "      <td>2</td>\n",
       "      <td>0</td>\n",
       "      <td>2</td>\n",
       "      <td>1</td>\n",
       "    </tr>\n",
       "    <tr>\n",
       "      <th>4</th>\n",
       "      <td>57</td>\n",
       "      <td>0</td>\n",
       "      <td>0</td>\n",
       "      <td>120</td>\n",
       "      <td>354</td>\n",
       "      <td>0</td>\n",
       "      <td>1</td>\n",
       "      <td>163</td>\n",
       "      <td>1</td>\n",
       "      <td>0.6</td>\n",
       "      <td>2</td>\n",
       "      <td>0</td>\n",
       "      <td>2</td>\n",
       "      <td>1</td>\n",
       "    </tr>\n",
       "  </tbody>\n",
       "</table>\n",
       "</div>"
      ],
      "text/plain": [
       "   age  sex  cp  trestbps  chol  fbs  restecg  thalach  exang  oldpeak  slope  \\\n",
       "0   63    1   3       145   233    1        0      150      0      2.3      0   \n",
       "1   37    1   2       130   250    0        1      187      0      3.5      0   \n",
       "2   41    0   1       130   204    0        0      172      0      1.4      2   \n",
       "3   56    1   1       120   236    0        1      178      0      0.8      2   \n",
       "4   57    0   0       120   354    0        1      163      1      0.6      2   \n",
       "\n",
       "   ca  thal  target  \n",
       "0   0     1       1  \n",
       "1   0     2       1  \n",
       "2   0     2       1  \n",
       "3   0     2       1  \n",
       "4   0     2       1  "
      ]
     },
     "execution_count": 2,
     "metadata": {},
     "output_type": "execute_result"
    }
   ],
   "source": [
    "heart_disease = pd.read_csv(\"../data/heart-disease.csv\")\n",
    "heart_disease.head()"
   ]
  },
  {
   "cell_type": "code",
   "execution_count": 5,
   "metadata": {},
   "outputs": [
    {
     "ename": "KeyError",
     "evalue": "194",
     "output_type": "error",
     "traceback": [
      "\u001b[0;31m---------------------------------------------------------------------------\u001b[0m",
      "\u001b[0;31mKeyError\u001b[0m                                  Traceback (most recent call last)",
      "\u001b[0;32m/var/folders/7q/5sn_ssd501gcz8xq_xyjv7gm0000gn/T/ipykernel_1074/678152420.py\u001b[0m in \u001b[0;36m<module>\u001b[0;34m\u001b[0m\n\u001b[1;32m      1\u001b[0m \u001b[0;31m# Obtenez l'ensemble de données sur le logement en Californie\u001b[0m\u001b[0;34m\u001b[0m\u001b[0;34m\u001b[0m\u001b[0;34m\u001b[0m\u001b[0m\n\u001b[1;32m      2\u001b[0m \u001b[0;32mfrom\u001b[0m \u001b[0msklearn\u001b[0m\u001b[0;34m.\u001b[0m\u001b[0mdatasets\u001b[0m \u001b[0;32mimport\u001b[0m \u001b[0mfetch_california_housing\u001b[0m\u001b[0;34m\u001b[0m\u001b[0;34m\u001b[0m\u001b[0m\n\u001b[0;32m----> 3\u001b[0;31m \u001b[0mhousing\u001b[0m \u001b[0;34m=\u001b[0m \u001b[0mfetch_california_housing\u001b[0m\u001b[0;34m(\u001b[0m\u001b[0;34m)\u001b[0m\u001b[0;34m\u001b[0m\u001b[0;34m\u001b[0m\u001b[0m\n\u001b[0m\u001b[1;32m      4\u001b[0m \u001b[0mhousing\u001b[0m\u001b[0;34m;\u001b[0m \u001b[0;31m# est téléchargé sous forme de dictionnaire\u001b[0m\u001b[0;34m\u001b[0m\u001b[0;34m\u001b[0m\u001b[0m\n",
      "\u001b[0;32m~/PycharmProjects/machine_learning_course/venv/lib/python3.8/site-packages/sklearn/datasets/_california_housing.py\u001b[0m in \u001b[0;36mfetch_california_housing\u001b[0;34m(data_home, download_if_missing, return_X_y, as_frame)\u001b[0m\n\u001b[1;32m    148\u001b[0m \u001b[0;34m\u001b[0m\u001b[0m\n\u001b[1;32m    149\u001b[0m     \u001b[0;32melse\u001b[0m\u001b[0;34m:\u001b[0m\u001b[0;34m\u001b[0m\u001b[0;34m\u001b[0m\u001b[0m\n\u001b[0;32m--> 150\u001b[0;31m         \u001b[0mcal_housing\u001b[0m \u001b[0;34m=\u001b[0m \u001b[0mjoblib\u001b[0m\u001b[0;34m.\u001b[0m\u001b[0mload\u001b[0m\u001b[0;34m(\u001b[0m\u001b[0mfilepath\u001b[0m\u001b[0;34m)\u001b[0m\u001b[0;34m\u001b[0m\u001b[0;34m\u001b[0m\u001b[0m\n\u001b[0m\u001b[1;32m    151\u001b[0m \u001b[0;34m\u001b[0m\u001b[0m\n\u001b[1;32m    152\u001b[0m     feature_names = [\n",
      "\u001b[0;32m~/PycharmProjects/machine_learning_course/venv/lib/python3.8/site-packages/joblib/numpy_pickle.py\u001b[0m in \u001b[0;36mload\u001b[0;34m(filename, mmap_mode)\u001b[0m\n\u001b[1;32m    585\u001b[0m                     \u001b[0;32mreturn\u001b[0m \u001b[0mload_compatibility\u001b[0m\u001b[0;34m(\u001b[0m\u001b[0mfobj\u001b[0m\u001b[0;34m)\u001b[0m\u001b[0;34m\u001b[0m\u001b[0;34m\u001b[0m\u001b[0m\n\u001b[1;32m    586\u001b[0m \u001b[0;34m\u001b[0m\u001b[0m\n\u001b[0;32m--> 587\u001b[0;31m                 \u001b[0mobj\u001b[0m \u001b[0;34m=\u001b[0m \u001b[0m_unpickle\u001b[0m\u001b[0;34m(\u001b[0m\u001b[0mfobj\u001b[0m\u001b[0;34m,\u001b[0m \u001b[0mfilename\u001b[0m\u001b[0;34m,\u001b[0m \u001b[0mmmap_mode\u001b[0m\u001b[0;34m)\u001b[0m\u001b[0;34m\u001b[0m\u001b[0;34m\u001b[0m\u001b[0m\n\u001b[0m\u001b[1;32m    588\u001b[0m     \u001b[0;32mreturn\u001b[0m \u001b[0mobj\u001b[0m\u001b[0;34m\u001b[0m\u001b[0;34m\u001b[0m\u001b[0m\n",
      "\u001b[0;32m~/PycharmProjects/machine_learning_course/venv/lib/python3.8/site-packages/joblib/numpy_pickle.py\u001b[0m in \u001b[0;36m_unpickle\u001b[0;34m(fobj, filename, mmap_mode)\u001b[0m\n\u001b[1;32m    504\u001b[0m     \u001b[0mobj\u001b[0m \u001b[0;34m=\u001b[0m \u001b[0;32mNone\u001b[0m\u001b[0;34m\u001b[0m\u001b[0;34m\u001b[0m\u001b[0m\n\u001b[1;32m    505\u001b[0m     \u001b[0;32mtry\u001b[0m\u001b[0;34m:\u001b[0m\u001b[0;34m\u001b[0m\u001b[0;34m\u001b[0m\u001b[0m\n\u001b[0;32m--> 506\u001b[0;31m         \u001b[0mobj\u001b[0m \u001b[0;34m=\u001b[0m \u001b[0munpickler\u001b[0m\u001b[0;34m.\u001b[0m\u001b[0mload\u001b[0m\u001b[0;34m(\u001b[0m\u001b[0;34m)\u001b[0m\u001b[0;34m\u001b[0m\u001b[0;34m\u001b[0m\u001b[0m\n\u001b[0m\u001b[1;32m    507\u001b[0m         \u001b[0;32mif\u001b[0m \u001b[0munpickler\u001b[0m\u001b[0;34m.\u001b[0m\u001b[0mcompat_mode\u001b[0m\u001b[0;34m:\u001b[0m\u001b[0;34m\u001b[0m\u001b[0;34m\u001b[0m\u001b[0m\n\u001b[1;32m    508\u001b[0m             warnings.warn(\"The file '%s' has been generated with a \"\n",
      "\u001b[0;32m/Library/Developer/CommandLineTools/Library/Frameworks/Python3.framework/Versions/3.8/lib/python3.8/pickle.py\u001b[0m in \u001b[0;36mload\u001b[0;34m(self)\u001b[0m\n\u001b[1;32m   1210\u001b[0m                     \u001b[0;32mraise\u001b[0m \u001b[0mEOFError\u001b[0m\u001b[0;34m\u001b[0m\u001b[0;34m\u001b[0m\u001b[0m\n\u001b[1;32m   1211\u001b[0m                 \u001b[0;32massert\u001b[0m \u001b[0misinstance\u001b[0m\u001b[0;34m(\u001b[0m\u001b[0mkey\u001b[0m\u001b[0;34m,\u001b[0m \u001b[0mbytes_types\u001b[0m\u001b[0;34m)\u001b[0m\u001b[0;34m\u001b[0m\u001b[0;34m\u001b[0m\u001b[0m\n\u001b[0;32m-> 1212\u001b[0;31m                 \u001b[0mdispatch\u001b[0m\u001b[0;34m[\u001b[0m\u001b[0mkey\u001b[0m\u001b[0;34m[\u001b[0m\u001b[0;36m0\u001b[0m\u001b[0;34m]\u001b[0m\u001b[0;34m]\u001b[0m\u001b[0;34m(\u001b[0m\u001b[0mself\u001b[0m\u001b[0;34m)\u001b[0m\u001b[0;34m\u001b[0m\u001b[0;34m\u001b[0m\u001b[0m\n\u001b[0m\u001b[1;32m   1213\u001b[0m         \u001b[0;32mexcept\u001b[0m \u001b[0m_Stop\u001b[0m \u001b[0;32mas\u001b[0m \u001b[0mstopinst\u001b[0m\u001b[0;34m:\u001b[0m\u001b[0;34m\u001b[0m\u001b[0;34m\u001b[0m\u001b[0m\n\u001b[1;32m   1214\u001b[0m             \u001b[0;32mreturn\u001b[0m \u001b[0mstopinst\u001b[0m\u001b[0;34m.\u001b[0m\u001b[0mvalue\u001b[0m\u001b[0;34m\u001b[0m\u001b[0;34m\u001b[0m\u001b[0m\n",
      "\u001b[0;31mKeyError\u001b[0m: 194"
     ]
    }
   ],
   "source": [
    "# Obtenez l'ensemble de données sur le logement en Californie\n",
    "from sklearn.datasets import fetch_california_housing\n",
    "housing = fetch_california_housing()\n",
    "housing; # est téléchargé sous forme de dictionnaire"
   ]
  },
  {
   "cell_type": "code",
   "execution_count": null,
   "metadata": {},
   "outputs": [],
   "source": [
    "housing_df = pd.DataFrame(housing[\"data\"], columns=housing[\"feature_names\"])\n",
    "housing_df[\"target\"] = pd.Series(housing[\"target\"])\n",
    "housing_df.head()"
   ]
  },
  {
   "cell_type": "markdown",
   "metadata": {},
   "source": [
    "## 5. Améliorer les prédictions du modèle grâce à l'expérimentation (réglage des hyperparamètres)\n",
    "\n",
    "Les premières prédictions que vous effectuez avec un modèle sont généralement appelées **prédictions de base**.\n",
    "\n",
    "Il en va de même pour les premières mesures d’évaluation que vous obtenez. Celles-ci sont généralement appelées **métriques de base**.\n",
    "\n",
    "Votre prochain objectif est d'améliorer ces mesures de base.\n",
    "\n",
    "Comment?\n",
    "\n",
    "*Expérimentez, expérimentez, expérimentez !*\n",
    "\n",
    "Deux des principales méthodes pour améliorer les mesures de base sont :\n",
    "1. Du point de vue des données.\n",
    "2. Du point de vue du modèle.\n",
    "\n",
    "Du point de vue des données, la question suivante :\n",
    "* Pourrions-nous collecter plus de données ? En apprentissage automatique, il est généralement préférable d’avoir plus de données, car cela donne à un modèle plus de possibilités d’apprendre des modèles.\n",
    "* Pourrions-nous améliorer nos données ? Cela pourrait impliquer de combler des valeurs manquantes ou de trouver une meilleure stratégie d'encodage (transformer les données en chiffres).\n",
    "\n",
    "Du point de vue du modèle, demande :\n",
    "* Existe-t-il un meilleur modèle que nous pourrions utiliser ? Si vous avez commencé avec un modèle simple, pourriez-vous en utiliser un plus complexe ? (nous en avons vu un exemple en regardant la [carte d'apprentissage automatique Scikit-Learn](https://scikit-learn.org/stable/tutorial/machine_learning_map/index.html), les méthodes d'ensemble sont généralement considérées comme des modèles plus complexes)\n",
    "* Pourrions-nous améliorer le modèle actuel ? Si le modèle que vous utilisez fonctionne bien dès la sortie de la boîte, les hyperparamètres peuvent-ils être ajustés pour le rendre encore meilleur ?\n",
    "\n",
    "> **Remarque :** Les modèles dans les données sont également souvent appelés paramètres de données. La différence entre les *paramètres* et les *hyperparamètres* est qu'un modèle d'apprentissage automatique cherche lui-même à trouver des paramètres dans les données, alors que les hyperparamètres sont des paramètres sur un modèle qu'une personne (vous) peut ajuster.\n",
    "\n",
    "Puisque nous disposons de deux ensembles de données existants, nous chercherons à améliorer nos résultats du point de vue du modèle.\n",
    "\n",
    "Plus précisément, nous verrons comment nous pourrions améliorer nos modèles `RandomForestClassifier` et `RandomForestRegressor` grâce au réglage des hyperparamètres.\n",
    "\n",
    "Que sont les hyperparamètres ?\n",
    "\n",
    "Bonne question, vérifions-les.\n",
    "\n",
    "Tout d'abord, nous allons instancier un `RandomForestClassifier`."
   ]
  },
  {
   "cell_type": "code",
   "execution_count": null,
   "metadata": {},
   "outputs": [],
   "source": [
    "from sklearn.ensemble import RandomForestClassifier\n",
    "\n",
    "clf = RandomForestClassifier()"
   ]
  },
  {
   "cell_type": "markdown",
   "metadata": {},
   "source": [
    "Lorsque nous instancions un modèle comme ci-dessus, nous utilisons les hyperparamètres par défaut.\n",
    "\n",
    "Ceux-ci sont imprimés lorsque vous appelez l'instance de modèle et `get_params()`."
   ]
  },
  {
   "cell_type": "code",
   "execution_count": null,
   "metadata": {},
   "outputs": [],
   "source": [
    "clf.get_params()"
   ]
  },
  {
   "cell_type": "markdown",
   "metadata": {},
   "source": [
    "Vous verrez des choses comme `max_degree`, `min_samples_split`, `n_estimators`.\n",
    "\n",
    "Chacun d'entre eux est un hyperparamètre du « RandomForestClassifier » que vous pouvez ajuster.\n",
    "\n",
    "Vous pouvez considérer les hyperparamètres comme étant similaires aux cadrans d’un four.\n",
    "\n",
    "Avec le réglage par défaut, votre four peut faire un bon travail en cuisinant votre plat préféré. Mais avec un peu d’expérimentation, vous constaterez que les résultats sont meilleurs lorsque vous ajustez les paramètres.\n",
    "\n",
    "<img src=\"../docs/images/sklearn-hyperparameter-tuning-oven.png\" width=500/>\n",
    "\n",
    "Il en va de même pour l’amélioration d’un modèle d’apprentissage automatique par réglage d’hyperparamètres.\n",
    "\n",
    "Les hyperparamètres par défaut d'un modèle d'apprentissage automatique peuvent bien trouver des modèles dans les données. Mais il est possible qu'un ajustement des hyperparamètres améliore les performances d'un modèle.\n",
    "\n",
    "Chaque modèle d'apprentissage automatique aura différents hyperparamètres que vous pourrez régler.\n",
    "\n",
    "Vous vous demandez peut-être : « Comment puis-je me souvenir de tout cela ? »\n",
    "\n",
    "Une autre bonne question.\n",
    "\n",
    "C'est pourquoi nous nous concentrons sur Random Forest.\n",
    "\n",
    "Au lieu de mémoriser tous les hyperparamètres de chaque modèle, nous verrons comment procéder avec un seul.\n",
    "\n",
    "Et puis connaissant ces principes, vous pouvez les appliquer à un modèle différent si nécessaire.\n",
    "\n",
    "En lisant la [documentation Scikit-Learn pour Random Forest](https://scikit-learn.org/stable/modules/generated/sklearn.ensemble.RandomForestClassifier.html), vous constaterez qu'ils suggèrent d'essayer de changer `n_estimators` (le nombre d'arbres dans la forêt) et `min_samples_split` (le nombre minimum d'échantillons requis pour diviser un nœud interne).\n",
    "\n",
    "Nous allons essayer de les régler ainsi que :\n",
    "* `max_features` (le nombre de fonctionnalités à prendre en compte lors de la recherche du meilleur partage)\n",
    "* `max_degree` (la profondeur maximale de l'arbre)\n",
    "* `min_samples_leaf` (le nombre minimum d'échantillons requis pour être sur un nœud feuille)\n",
    "\n",
    "Si cela semble encore beaucoup, la bonne nouvelle est que le processus que nous suivons avec Random Forest et ajustons ses hyperparamètres peut être utilisé pour d'autres modèles d'apprentissage automatique dans Scikit-Learn. La seule différence est qu'avec un modèle différent, les hyperparamètres que vous réglez seront différents.\n",
    "\n",
    "L'ajustement des hyperparamètres est généralement un processus expérimental pour déterminer lesquels sont les meilleurs. Car il n’existe aucun moyen réel de savoir quels hyperparamètres seront les meilleurs au début.\n",
    "\n",
    "Pour nous familiariser avec le réglage des hyparamètres, nous prendrons notre RandomForestClassifier et ajusterons ses hyperparamètres de 3 manières.\n",
    "\n",
    "1. À la main\n",
    "2. Au hasard avec [`sklearn.model_selection.RandomizedSearchCV`](https://scikit-learn.org/stable/modules/generated/sklearn.model_selection.RandomizedSearchCV.html)\n",
    "3. De manière exhaustive avec [`sklearn.model_selection.GridSearchCV`](https://scikit-learn.org/stable/modules/generated/sklearn.model_selection.GridSearchCV.html)"
   ]
  },
  {
   "cell_type": "markdown",
   "metadata": {},
   "source": [
    "### 5.1 Réglage manuel des hyperparamètres\n",
    "\n",
    "Jusqu'à présent, nous avons travaillé avec des ensembles de données de formation et de test.\n",
    "\n",
    "Vous entraînez un modèle sur un ensemble d’entraînement et l’évaluez sur un ensemble de données de test.\n",
    "\n",
    "Mais le réglage des hyperparamètres introduit un troisième ensemble, un ensemble de validation.\n",
    "\n",
    "Le processus devient maintenant :\n",
    "1. Entraînez un modèle sur les données d'entraînement.\n",
    "2. (Essayez d') améliorer les hyperparamètres du modèle sur l'ensemble de validation.\n",
    "3. Évaluez le modèle sur l'ensemble de test.\n",
    "\n",
    "Si notre ensemble de données de départ contenait 100 étiquettes de dossiers de patients différents indiquant qui souffrait d'une maladie cardiaque et qui n'en souffrait pas et que nous souhaitions créer un modèle d'apprentissage automatique pour prédire qui souffrait d'une maladie cardiaque et qui n'en souffrait pas, cela pourrait ressembler à ceci :\n",
    "\n",
    "<img src=\"../docs/images/sklearn-train-valid-test-annotated.png\" width=500/>\n",
    "\n",
    "Puisque nous savons que nous utilisons un `RandomForestClassifier` et que nous connaissons les hyperparamètres que nous voulons ajuster, voyons à quoi cela ressemble.\n",
    "\n",
    "Tout d’abord, rappelons les paramètres de base."
   ]
  },
  {
   "cell_type": "code",
   "execution_count": null,
   "metadata": {},
   "outputs": [],
   "source": [
    "clf.get_params()"
   ]
  },
  {
   "cell_type": "markdown",
   "metadata": {},
   "source": [
    "Et nous allons ajuster :\n",
    "* `max_profondeur`\n",
    "* `max_features`\n",
    "* `min_samples_leaf`\n",
    "* `min_samples_split`\n",
    "* `n_estimateurs`\n",
    "\n",
    "Nous utiliserons le même code que précédemment, sauf que cette fois nous créerons une répartition formation, validation et test.\n",
    "\n",
    "Avec l'ensemble d'entraînement contenant 70 % des données et les ensembles de validation et de test contenant chacun 15 %.\n",
    "\n",
    "Obtenons quelques résultats de base, puis nous ajusterons le modèle.\n",
    "\n",
    "Et puisque nous allons évaluer quelques modèles, créons une fonction d'évaluation."
   ]
  },
  {
   "cell_type": "code",
   "execution_count": null,
   "metadata": {},
   "outputs": [],
   "source": [
    "def evaluate_preds(y_true: np.array, \n",
    "                   y_preds: np.array) -> dict:\n",
    "    \"\"\"\n",
    "    Performs evaluation comparison on y_true labels vs. y_pred labels.\n",
    "\n",
    "    Returns several metrics in the form of a dictionary.\n",
    "    \"\"\"\n",
    "    accuracy = accuracy_score(y_true, y_preds)\n",
    "    precision = precision_score(y_true, y_preds)\n",
    "    recall = recall_score(y_true, y_preds)\n",
    "    f1 = f1_score(y_true, y_preds)\n",
    "    metric_dict = {\"accuracy\": round(accuracy, 2),\n",
    "                   \"precision\": round(precision, 2), \n",
    "                   \"recall\": round(recall, 2),\n",
    "                   \"f1\": round(f1, 2)}\n",
    "    print(f\"Acc: {accuracy * 100:.2f}%\")\n",
    "    print(f\"Precision: {precision:.2f}\")\n",
    "    print(f\"Recall: {recall:.2f}\")\n",
    "    print(f\"F1 score: {f1:.2f}\")\n",
    "\n",
    "    return metric_dict"
   ]
  },
  {
   "cell_type": "markdown",
   "metadata": {},
   "source": [
    "Recréons maintenant un workflow précédent, sauf que nous ajouterons la création d'un ensemble de validation."
   ]
  },
  {
   "cell_type": "code",
   "execution_count": null,
   "metadata": {},
   "outputs": [],
   "source": [
    "from sklearn.metrics import accuracy_score, precision_score, recall_score, f1_score\n",
    "from sklearn.model_selection import train_test_split\n",
    "from sklearn.ensemble import RandomForestClassifier\n",
    "\n",
    "# Définir la graine\n",
    "np.random.seed(42)\n",
    "\n",
    "# Lire les données\n",
    "heart_disease = pd.read_csv(\"../data/heart-disease.csv\")\n",
    "\n",
    "# Divisé en X (features) & y (labels)\n",
    "X = heart_disease.drop(\"target\", axis=1)\n",
    "y = heart_disease[\"target\"]\n",
    "\n",
    "# Répartition formation et tests (70% train, 30% test)\n",
    "X_train, X_test, y_train, y_test = train_test_split(X, y, test_size=0.3)\n",
    "\n",
    "# Créer une validation et une répartition des tests en divisant les données de test en deux (30 % de test -> 15 % de validation, 15 % de test)\n",
    "X_valid, X_test, y_valid, y_test = train_test_split(X_test, y_test, test_size=0.5)\n",
    "\n",
    "clf = RandomForestClassifier()\n",
    "clf.fit(X_train, y_train)\n",
    "\n",
    "# Faites des prédictions\n",
    "y_preds = clf.predict(X_valid)\n",
    "\n",
    "# Evaluez le classificateur\n",
    "baseline_metrics = evaluate_preds(y_valid, y_preds)\n",
    "baseline_metrics"
   ]
  },
  {
   "cell_type": "code",
   "execution_count": null,
   "metadata": {},
   "outputs": [],
   "source": [
    "# Vérifiez les tailles des divisions\n",
    "print(f\"Training data: {len(X_train)} samples, {len(y_train)} labels\")\n",
    "print(f\"Validation data: {len(X_valid)} samples, {len(y_valid)} labels\")\n",
    "print(f\"Testing data: {len(X_test)} samples, {len(y_test)} labels\")"
   ]
  },
  {
   "cell_type": "markdown",
   "metadata": {},
   "source": [
    "Magnifique, essayons maintenant d'améliorer les résultats.\n",
    "\n",
    "Nous allons changer 1 des hyperparamètres, `n_estimators=100` (par défaut) en `n_estimators=200` et voir si cela améliore l'ensemble de validation."
   ]
  },
  {
   "cell_type": "code",
   "execution_count": null,
   "metadata": {},
   "outputs": [],
   "source": [
    "np.random.seed(42)\n",
    "\n",
    "# Créer un deuxième classificateur\n",
    "clf_2 = RandomForestClassifier(n_estimators=200)\n",
    "clf_2.fit(X_train, y_train)\n",
    "\n",
    "# Faites des prédictions\n",
    "y_preds_2 = clf_2.predict(X_valid)\n",
    "\n",
    "# Évaluer le 2ème classificateur\n",
    "clf_2_metrics = evaluate_preds(y_valid, y_preds_2)"
   ]
  },
  {
   "cell_type": "markdown",
   "metadata": {},
   "source": [
    "Hmm, il semble que doubler la valeur de « n_estimators » soit *pire* que la valeur par défaut, peut-être y a-t-il une meilleure valeur pour « n_estimators » ?\n",
    "\n",
    "Et quels autres hyperparamètres pourrions-nous modifier ?\n",
    "\n",
    "Attendez...\n",
    "\n",
    "Cela pourrait prendre un certain temps si nous ne faisons que créer de nouveaux modèles avec de nouveaux hyperparamètres à chaque fois.\n",
    "\n",
    "Il existe sûrement un meilleur moyen ?\n",
    "\n",
    "Il y a."
   ]
  },
  {
   "cell_type": "markdown",
   "metadata": {},
   "source": [
    "### 5.2 Réglage des hyperparamètres avec [`RandomizedSearchCV`](https://scikit-learn.org/stable/modules/generated/sklearn.model_selection.RandomizedSearchCV.html)\n",
    "\n",
    "[`sklearn.model_selection.RandomizedSearchCV`](https://scikit-learn.org/stable/modules/generated/sklearn.model_selection.RandomizedSearchCV.html) de Scikit-Learn nous permet de rechercher aléatoirement différents hyperparamètres pour voir lesquels fonctionnent le mieux. .\n",
    "\n",
    "Il stocke également des détails sur ceux qui fonctionnent le mieux !\n",
    "\n",
    "Voyons-le en action.\n",
    "\n",
    "Tout d’abord, nous créons un dictionnaire de distributions de paramètres (collections de différentes valeurs pour des hyperparamètres spécifiques) que nous aimerions parcourir.\n",
    "\n",
    "Ce dictionnaire se présente sous la forme :\n",
    "\n",
    "```python\n",
    "param_distributions = {\"hyperparameter_name\": [values_to_randomly_try]}\n",
    "```\n",
    "\n",
    "Où `\"hyperparameter_name\"` est la valeur d'un hyperparamètre spécifique pour un modèle et `[values_to_randomly_try]` est une liste de valeurs pour cet hyperparamètre spécifique à essayer de manière aléatoire."
   ]
  },
  {
   "cell_type": "code",
   "execution_count": null,
   "metadata": {},
   "outputs": [],
   "source": [
    "# Grille d'hyperparamètres RandomizedSearchCV recherchera\n",
    "param_distributions = {\"n_estimators\": [10, 100, 200, 500, 1000, 1200],\n",
    "                       \"max_depth\": [None, 5, 10, 20, 30],\n",
    "                       \"max_features\": [\"sqrt\", \"log2\", None],\n",
    "                       \"min_samples_split\": [2, 4, 6, 8],\n",
    "                       \"min_samples_leaf\": [1, 2, 4, 8]}"
   ]
  },
  {
   "cell_type": "markdown",
   "metadata": {},
   "source": [
    "D’où viennent ces valeurs ?\n",
    "\n",
    "Ils sont inventés.\n",
    "\n",
    "Composé?\n",
    "\n",
    "Oui.\n",
    "\n",
    "Pas complètement sorti de l'air, mais après avoir lu la [documentation Scikit-Learn sur Random Forest](https://scikit-learn.org/stable/modules/generated/sklearn.ensemble.RandomForestClassifier.html), vous en verrez de ces valeurs ont certaines valeurs qui fonctionnent généralement bien et certains hyperparamètres acceptent des chaînes plutôt que des entiers.\n",
    "\n",
    "Maintenant que nous avons la configuration du dictionnaire de distribution des paramètres, « RandomizedSearchCV » de Scikit-Learn l'examinera, choisira une valeur aléatoire parmi chacune, instanciera un modèle avec ces valeurs et testera chaque modèle.\n",
    "\n",
    "Combien de modèles va-t-il tester ?\n",
    "\n",
    "Autant qu’il y en a pour chaque combinaison d’hyperparamètres à tester. Additionnons-les."
   ]
  },
  {
   "cell_type": "code",
   "execution_count": null,
   "metadata": {},
   "outputs": [],
   "source": [
    "# Comptez le nombre total de combinaisons d'hyperparamètres à tester\n",
    "total_randomized_hyperparameter_combintions_to_test = np.prod([len(value) for value in param_distributions.values()])\n",
    "print(f\"There are {total_randomized_hyperparameter_combintions_to_test} potential combinations of hyperparameters to test.\")"
   ]
  },
  {
   "cell_type": "markdown",
   "metadata": {},
   "source": [
    "Cela fait beaucoup de combinaisons !\n",
    "\n",
    "Ou...\n",
    "\n",
    "Nous pouvons définir le paramètre `n_iter` pour limiter le nombre de tests de modèles `RandomizedSearchCV` (par exemple, `n_iter=20` signifie essayer `20` combinaisons aléatoires différentes d'hyperparamètres et validera de manière croisée chaque ensemble, donc si `cv=5 `, 5x20 = 100 ajustements au total).\n",
    "\n",
    "La meilleure chose?\n",
    "\n",
    "Les résultats que nous obtiendrons seront validés de manière croisée (d'où le CV dans `RandomizedSearchCV`) afin que nous puissions utiliser `train_test_split()`.\n",
    "\n",
    "Et comme nous examinons tant de modèles différents, nous définirons `n_jobs=-1` dans notre [`RandomForestClassifier`](https://scikit-learn.org/stable/modules/generated/sklearn.ensemble. RandomForestClassifier.html) afin que Scikit-Learn profite de tous les cœurs (processeurs) de nos ordinateurs.\n",
    "\n",
    "Voyons-le en action.\n",
    "\n",
    "> **Remarque :** En fonction de `n_iter` (le nombre de modèles que vous testez), des différentes valeurs de la grille d'hyperparamètres et de la puissance de votre ordinateur, l'exécution de la cellule ci-dessous peut prendre un certain temps (pour référence, cela a pris environ ~1 minute sur un MacBook Pro M1 Pro)."
   ]
  },
  {
   "cell_type": "code",
   "execution_count": null,
   "metadata": {},
   "outputs": [],
   "source": [
    "# Démarrer le chronomètre\n",
    "import time\n",
    "start_time = time.time()\n",
    "\n",
    "from sklearn.model_selection import RandomizedSearchCV, train_test_split\n",
    "\n",
    "np.random.seed(42)\n",
    "\n",
    "# Divisez en X & y\n",
    "X = heart_disease.drop(\"target\", axis=1)\n",
    "y = heart_disease[\"target\"]\n",
    "\n",
    "# Divisez en ensembles de train et de test\n",
    "X_train, X_test, y_train, y_test = train_test_split(X, y, test_size=0.2)\n",
    "\n",
    "# Définissez n_jobs sur -1 pour utiliser tous les cœurs disponibles sur votre machine (si cela provoque des erreurs, essayez n_jobs=1)\n",
    "clf = RandomForestClassifier(n_jobs=-1)\n",
    "\n",
    "# Configurer RandomizedSearchCV\n",
    "n_iter = 30 # essayez 30 modèles\n",
    "rs_clf = RandomizedSearchCV(estimator=clf,\n",
    "                            param_distributions=param_distributions,\n",
    "                            n_iter=n_iter, \n",
    "                            cv=5, # 5-fold cross-validation\n",
    "                            verbose=2) # affiche les résultats\n",
    "\n",
    "# Ajuster la version RandomizedSearchCV de clf (effectue une validation croisée pour nous, donc pas besoin d'utiliser un jeu de validation)rs_clf.fit(X_train, y_train);\n",
    "rs_clf.fit(X_train, y_train);\n",
    "\n",
    "# Arrétez le chronomètre\n",
    "end_time = time.time()\n",
    "print(f\"[INFO] Total time taken for {n_iter} random combinations of hyperparameters: {end_time - start_time:.2f} seconds.\")"
   ]
  },
  {
   "cell_type": "markdown",
   "metadata": {},
   "source": [
    "Lorsque `RandomizedSearchCV` parcourt les combinaisons `n_iter` d'espace de recherche d'hyperparamètres, il stocke les meilleures dans l'attribut `best_params_`."
   ]
  },
  {
   "cell_type": "code",
   "execution_count": null,
   "metadata": {},
   "outputs": [],
   "source": [
    "# Trouvez les meilleurs hyperparamètres trouvés par RandomizedSearchCV\n",
    "rs_clf.best_params_"
   ]
  },
  {
   "cell_type": "markdown",
   "metadata": {},
   "source": [
    "Désormais, lorsque nous appellerons `predict()` sur `rs_clf` (notre version `RandomizedSearchCV` de notre classificateur), il utilisera les meilleurs hyperparamètres qu'il a trouvés."
   ]
  },
  {
   "cell_type": "code",
   "execution_count": null,
   "metadata": {},
   "outputs": [],
   "source": [
    "# Faites des prédictions avec les meilleurs hyperparamètres\n",
    "rs_y_preds = rs_clf.predict(X_test)\n",
    "\n",
    "# Évaluez les prédictions\n",
    "rs_metrics = evaluate_preds(y_test, rs_y_preds)"
   ]
  },
  {
   "cell_type": "markdown",
   "metadata": {},
   "source": [
    "Grâce au test de « RandomizedSearchCV » sur un tas d'hyperparamètres différents, nous obtenons un bon coup de pouce à toutes les métriques d'évaluation de notre modèle de classification."
   ]
  },
  {
   "cell_type": "markdown",
   "metadata": {},
   "source": [
    "### 5.3 Réglage des hyperparamètres avec [`GridSearchCV`](https://scikit-learn.org/stable/modules/generated/sklearn.model_selection.GridSearchCV.html)\n",
    "\n",
    "Il existe une autre façon dont nous pourrions essayer d’améliorer les hyperparamètres de notre modèle.\n",
    "\n",
    "Et c'est avec [`sklearn.model_selection.GridSearchCV`](https://scikit-learn.org/stable/modules/generated/sklearn.model_selection.GridSearchCV.html).\n",
    "\n",
    "La principale différence entre `GridSearchCV` et `RandomizedSearchCV` est que `GridSearchCV` recherche de manière exhaustive sur une grille d'hyperparamètres (il essaiera toutes les combinaisons possibles), tandis que `RandomizedSearchCV` recherche sur une grille d'hyperparamètres de manière aléatoire (en s'arrêtant après `n_iter` combinaisons).\n",
    "\n",
    "`GridSearchCV` fait également référence à un dictionnaire de distributions de paramètres sous forme de grille de paramètres (via le paramètre `param_grid`).\n",
    "\n",
    "Par exemple, regardons notre dictionnaire des hyperparamètres."
   ]
  },
  {
   "cell_type": "code",
   "execution_count": null,
   "metadata": {},
   "outputs": [],
   "source": [
    "param_distributions"
   ]
  },
  {
   "cell_type": "markdown",
   "metadata": {},
   "source": [
    "`RandomizedSearchCV` essaie des combinaisons `n_iter` de différentes valeurs.\n",
    "\n",
    "Alors que `GridSearchCV` essaiera toutes les combinaisons possibles.\n",
    "\n",
    "Et si vous vous souvenez de l'époque où nous avons fait le calcul : `max_degree` a 4 valeurs, `max_features` en a 2, `min_samples_leaf` en a 3, `min_samples_split` en a 3, `n_estimators` en a 5.\n",
    "\n",
    "Cela fait 4x2x3x3x5 = 360 modèles !\n",
    "\n",
    "Cela peut prendre beaucoup de temps en fonction de la puissance de l'ordinateur que vous utilisez, de la quantité de données dont vous disposez et de la complexité des hyperparamètres (généralement des valeurs plus élevées signifient un modèle plus complexe).\n",
    "\n",
    "Dans notre cas, les données que nous utilisons sont relativement petites (seulement environ 300 échantillons).\n",
    "\n",
    "Puisque nous avons déjà essayé de trouver des hyperparamètres idéaux en utilisant `RandomizedSearchCV`, nous allons créer une autre grille d'hyperparamètres basée sur les `best_params_` de `rs_clf` avec moins d'options, puis essayer d'utiliser `GridSearchCV` pour trouver un ensemble plus idéal. .\n",
    "\n",
    "Essentiellement, le flux de travail pourrait être :\n",
    "1. Ajustez les hyperparamètres à la main pour avoir une idée des données/du modèle.\n",
    "2. Créez un large ensemble de distributions d'hyperparamètres et recherchez-les de manière aléatoire avec `RandomizedSearchCV`.\n",
    "3. Trouvez les meilleurs hyperparamètres à partir de 2 et réduisez l'espace de recherche avant de rechercher de manière exhaustive un sous-ensemble plus petit avec `GridSearchCV`.\n",
    "\n",
    "> **Remarque :** Basé sur `best_params_` de `rs_clf`, cela implique que le prochain ensemble d'hyperparamètres que nous allons essayer se situe à peu près dans la même plage que le meilleur ensemble trouvé par `RandomizedSearchCV`."
   ]
  },
  {
   "cell_type": "code",
   "execution_count": null,
   "metadata": {},
   "outputs": [],
   "source": [
    "# Créer une grille d'hyperparamètres similaire à rs_clf.best_params_\n",
    "param_grid = {\"n_estimators\": [200, 1000],\n",
    "              \"max_depth\": [30, 40, 50],\n",
    "              \"max_features\": [\"log2\"],\n",
    "              \"min_samples_split\": [2, 4, 6, 8],\n",
    "              \"min_samples_leaf\": [4]}"
   ]
  },
  {
   "cell_type": "markdown",
   "metadata": {},
   "source": [
    "Nous avons créé une autre grille d'hyperparamètres sur lesquels effectuer la recherche, cette fois avec un total inférieur."
   ]
  },
  {
   "cell_type": "code",
   "execution_count": null,
   "metadata": {},
   "outputs": [],
   "source": [
    "# Comptez le nombre total de combinaisons d'hyperparamètres à tester\n",
    "total_grid_search_hyperparameter_combinations_to_test = np.prod([len(value) for value in param_grid.values()])\n",
    "print(f\"There are {total_grid_search_hyperparameter_combinations_to_test} combinations of hyperparameters to test.\")\n",
    "print(f\"This is {total_randomized_hyperparameter_combintions_to_test/total_grid_search_hyperparameter_combinations_to_test} times less\\\n",
    " than before (previous: {total_randomized_hyperparameter_combintions_to_test}).\")"
   ]
  },
  {
   "cell_type": "markdown",
   "metadata": {},
   "source": [
    "Maintenant, lorsque nous exécutons `GridSearchCV`, en lui transmettant notre classificateur (`clf`), la grille de paramètres (`param_grid`) et le nombre de plis de validation croisée que nous aimerions utiliser (`cv=5`), cela va créez un modèle avec chaque combinaison d'hyperparamètres, puis effectuez une validation croisée toutes les 5 fois (par exemple, 36 combinaisons d'hyperparamètres * 5 = 135 ajustements au total) et vérifiez les résultats.\n",
    "\n",
    "> **Remarque :** En fonction de la puissance de calcul de la machine que vous utilisez, l'exécution de la cellule suivante peut prendre quelques minutes (pour référence, cela a pris environ 60 secondes sur mon MacBook Pro M1 Pro)."
   ]
  },
  {
   "cell_type": "code",
   "execution_count": null,
   "metadata": {},
   "outputs": [],
   "source": [
    "# Démarrer le chronomètre\n",
    "import time\n",
    "start_time = time.time()\n",
    "\n",
    "from sklearn.model_selection import GridSearchCV, train_test_split\n",
    "\n",
    "np.random.seed(42)\n",
    "\n",
    "# Divisez en X & y\n",
    "X = heart_disease.drop(\"target\", axis=1)\n",
    "y = heart_disease[\"target\"]\n",
    "\n",
    "# Divisé en ensembles de train et de test\n",
    "X_train, X_test, y_train, y_test = train_test_split(X, y, test_size=0.2)\n",
    "\n",
    "# Définissez n_jobs sur -1 pour utiliser tous les cœurs de machine disponibles (si cela produit des erreurs, essayez n_jobs=1)\n",
    "clf = RandomForestClassifier(n_jobs=-1)\n",
    "\n",
    "# Configurer GridSearchCV\n",
    "gs_clf = GridSearchCV(estimator=clf,\n",
    "                      param_grid=param_grid,\n",
    "                      cv=5, # 5-fold cross-validation\n",
    "                      verbose=2) # affichez la progression\n",
    "\n",
    "# Ajuster la version RandomizedSearchCV de clf\n",
    "gs_clf.fit(X_train, y_train);\n",
    "\n",
    "# Trouver le temps d'exécution\n",
    "end_time = time.time()"
   ]
  },
  {
   "cell_type": "code",
   "execution_count": null,
   "metadata": {},
   "outputs": [],
   "source": [
    "# Combien de temps at-il fallu?\n",
    "total_time = end_time - start_time\n",
    "print(f\"[INFO] The total running time for running GridSearchCV was {total_time:.2f} seconds.\")"
   ]
  },
  {
   "cell_type": "markdown",
   "metadata": {},
   "source": [
    "Une fois terminé, nous pouvons vérifier les meilleures combinaisons d'hyperparamètres trouvées en utilisant l'attribut `best_params_`."
   ]
  },
  {
   "cell_type": "code",
   "execution_count": null,
   "metadata": {},
   "outputs": [],
   "source": [
    "# Vérifiez les meilleurs hyperparamètres trouvés avec GridSearchCV\n",
    "gs_clf.best_params_"
   ]
  },
  {
   "cell_type": "markdown",
   "metadata": {},
   "source": [
    "Et par défaut, lorsque nous appellerons la fonction `predict()` sur `gs_clf`, elle utilisera les meilleurs hyperparamètres."
   ]
  },
  {
   "cell_type": "code",
   "execution_count": null,
   "metadata": {},
   "outputs": [],
   "source": [
    "# Prédictions maximales avec le classificateur GridSearchCV\n",
    "gs_y_preds = gs_clf.predict(X_test)\n",
    "\n",
    "# Évaluez les prédictions\n",
    "gs_metrics = evaluate_preds(y_test, gs_y_preds)\n",
    "gs_metrics"
   ]
  },
  {
   "cell_type": "markdown",
   "metadata": {},
   "source": [
    "Créons un DataFrame pour comparer les différentes métriques."
   ]
  },
  {
   "cell_type": "code",
   "execution_count": null,
   "metadata": {},
   "outputs": [],
   "source": [
    "compare_metrics = pd.DataFrame({\"baseline\": baseline_metrics,\n",
    "                                \"clf_2\": clf_2_metrics,\n",
    "                                \"random search\": rs_metrics,\n",
    "                                \"grid search\": gs_metrics})\n",
    "compare_metrics.plot.bar(figsize=(10, 8));"
   ]
  },
  {
   "cell_type": "markdown",
   "metadata": {},
   "source": [
    "Après avoir essayé de nombreuses combinaisons différentes d’hyperparamètres, nous obtenons une légère amélioration des résultats.\n",
    "\n",
    "Cependant, vous remarquerez parfois que vos résultats ne changent pas beaucoup.\n",
    "\n",
    "Ces choses pourraient arriver.\n",
    "\n",
    "Mais il est important de se rappeler que ce n’est pas fini. Il y a d'autres choses que vous pouvez essayer.\n",
    "\n",
    "Dans le sens du réglage des hyperparamètres, il pourrait y avoir un meilleur ensemble que nous pourrions trouver grâce à une recherche plus approfondie avec `RandomizedSearchCV` et `GridSearchCV`, cela nécessiterait plus d'expérimentation.\n",
    "\n",
    "Autres techniques que vous pourriez :\n",
    "* **Collecter davantage de données** - D'après les résultats obtenus actuellement par nos modèles, il semble qu'ils soient très capables de trouver des modèles. La collecte de davantage de données peut améliorer la capacité d'un modèle à trouver des modèles. Cependant, votre capacité à y parvenir dépendra largement du projet sur lequel vous travaillez.\n",
    "* **Essayez un modèle plus avancé** - Bien que notre modèle Random Forest optimisé fonctionne plutôt bien, une méthode d'ensemble plus avancée telle que [XGBoost](https://xgboost.ai/) ou [CatBoost](https:/ /catboost.ai/) pourrait mieux fonctionner. Je vais les laisser pour les activités extra-scolaires.\n",
    "\n",
    "Étant donné que l’apprentissage automatique relève à la fois de l’ingénierie et de la science, ce type d’expériences est courant dans tout projet d’apprentissage automatique.\n",
    "\n",
    "Maintenant que nous avons un modèle de forêt aléatoire optimisé, découvrons comment nous pouvons le sauvegarder et l'exporter afin de pouvoir le partager avec d'autres ou potentiellement l'utiliser dans une application externe."
   ]
  },
  {
   "cell_type": "markdown",
   "metadata": {},
   "source": [
    "## 6. Sauvegarde et chargement de modèles d'apprentissage automatique formés\n",
    "\n",
    "Notre modèle `GridSearchCV` (`gs_clf`) a les meilleurs résultats jusqu'à présent, nous allons l'exporter et l'enregistrer dans un fichier.\n",
    "\n",
    "### 6.1 Sauvegarde et chargement d'un modèle avec `pickle`\n",
    "\n",
    "Nous avons vu dès le début qu'une façon de sauvegarder un modèle consiste à utiliser le [module `pickle`](https://docs.python.org/3/library/pickle.html) de Python.\n",
    "\n",
    "Nous allons utiliser la méthode `dump()` de `pickle` et lui transmettre notre modèle, `gs_clf`, ainsi que la fonction `open()` contenant une chaîne pour le nom de fichier sous lequel nous voulons enregistrer notre modèle, ainsi que la chaîne `\"wb\"` qui signifie \"write binaire\", qui est le type de fichier `open()` sous lequel notre modèle sera écrit."
   ]
  },
  {
   "cell_type": "code",
   "execution_count": null,
   "metadata": {},
   "outputs": [],
   "source": [
    "import pickle\n",
    "\n",
    "# Enregistrer un modèle existant dans un fichier\n",
    "best_model_file_name_pickle = \"gs_random_forest_model_1.pkl\" # L'extension .pkl signifie \"pickle\"\n",
    "pickle.dump(gs_clf, open(best_model_file_name_pickle, \"wb\"))"
   ]
  },
  {
   "cell_type": "markdown",
   "metadata": {},
   "source": [
    "Une fois enregistré, nous pouvons l'importer en utilisant la fonction `load()` de `pickle`, en lui passant `open()` contenant le nom du fichier sous forme de chaîne et `\"rb\"` signifiant \"lire binaire\"."
   ]
  },
  {
   "cell_type": "code",
   "execution_count": null,
   "metadata": {},
   "outputs": [],
   "source": [
    "# Chargez un modèle enregistré\n",
    "loaded_pickle_model = pickle.load(open(best_model_file_name_pickle, \"rb\"))"
   ]
  },
  {
   "cell_type": "markdown",
   "metadata": {},
   "source": [
    "Une fois que vous avez réimporté votre modèle entraîné à l'aide de « pickle », vous pouvez l'utiliser pour faire des prédictions comme d'habitude."
   ]
  },
  {
   "cell_type": "code",
   "execution_count": null,
   "metadata": {},
   "outputs": [],
   "source": [
    "# Faire des prédictions et évaluer le modèle chargé\n",
    "pickle_y_preds = loaded_pickle_model.predict(X_test)\n",
    "loaded_pickle_model_metrics = evaluate_preds(y_test, pickle_y_preds)\n",
    "loaded_pickle_model_metrics"
   ]
  },
  {
   "cell_type": "markdown",
   "metadata": {},
   "source": [
    "Vous remarquerez que les métriques d'évaluation du modèle réimporté sont les mêmes que celles du modèle avant son exportation."
   ]
  },
  {
   "cell_type": "code",
   "execution_count": null,
   "metadata": {},
   "outputs": [],
   "source": [
    "loaded_pickle_model_metrics == gs_metrics"
   ]
  },
  {
   "cell_type": "markdown",
   "metadata": {},
   "source": [
    "### 6.2 Sauvegarde et chargement d'un modèle avec [`joblib`](https://joblib.readthedocs.io/en/latest/persistence.html)\n",
    "\n",
    "L'autre façon de charger et de sauvegarder des modèles est d'utiliser `joblib`. Ce qui fonctionne relativement de la même manière que « cornichon ».\n",
    "\n",
    "Pour enregistrer un modèle, nous pouvons utiliser la fonction `dump()` de `joblib`, en lui passant le modèle (`gs_clf`) et le nom de fichier souhaité."
   ]
  },
  {
   "cell_type": "code",
   "execution_count": null,
   "metadata": {},
   "outputs": [],
   "source": [
    "from joblib import dump, load\n",
    "\n",
    "# Enregistrer un modèle dans un fichier\n",
    "best_model_file_name_joblib = \"gs_random_forest_model_1.joblib\"\n",
    "dump(gs_clf, filename=best_model_file_name_joblib) "
   ]
  },
  {
   "cell_type": "markdown",
   "metadata": {},
   "source": [
    "Une fois que vous avez enregistré un modèle en utilisant `dump()`, vous pouvez l'importer en utilisant `load()` et lui transmettre le nom de fichier du modèle."
   ]
  },
  {
   "cell_type": "code",
   "execution_count": null,
   "metadata": {},
   "outputs": [],
   "source": [
    "# Importer un modèle joblib enregistré\n",
    "loaded_joblib_model = load(filename=best_model_file_name_joblib)"
   ]
  },
  {
   "cell_type": "markdown",
   "metadata": {},
   "source": [
    "Encore une fois, une fois importé, nous pouvons faire des prédictions avec notre modèle."
   ]
  },
  {
   "cell_type": "code",
   "execution_count": null,
   "metadata": {},
   "outputs": [],
   "source": [
    "# Faire et évaluer des prédictions joblib\n",
    "joblib_y_preds = loaded_joblib_model.predict(X_test)\n",
    "loaded_joblib_model_metrics = evaluate_preds(y_test, joblib_y_preds)\n",
    "loaded_joblib_model_metrics"
   ]
  },
  {
   "cell_type": "markdown",
   "metadata": {},
   "source": [
    "Et encore une fois, vous remarquerez que les mesures d’évaluation sont les mêmes qu’auparavant."
   ]
  },
  {
   "cell_type": "code",
   "execution_count": null,
   "metadata": {},
   "outputs": [],
   "source": [
    "loaded_joblib_model_metrics == gs_metrics"
   ]
  },
  {
   "cell_type": "markdown",
   "metadata": {},
   "source": [
    "Alors, lequel devriez-vous utiliser, « pickle » ou « joblib » ?\n",
    "\n",
    "Selon la [documentation sur la persistance des modèles de Scikit-Learn](https://scikit-learn.org/stable/model_persistence.html), ils suggèrent qu'il pourrait être plus efficace d'utiliser `joblib` car il est plus efficace avec de grands tableaux numpy (qui est ce qui peut être contenu dans les modèles Scikit-Learn entraînés/ajustés)."
   ]
  },
  {
   "cell_type": "markdown",
   "metadata": {},
   "source": [
    "## 7. Revisiter l'ensemble du pipeline\n",
    "\n",
    "Nous avons couvert beaucoup de choses. Et jusqu’à présent, cela semble être partout, ce qui est le cas.\n",
    "\n",
    "Mais ne vous inquiétez pas, les projets de machine learning commencent souvent ainsi.\n",
    "\n",
    "Tout un tas d'expérimentations et de code partout au début, puis une fois que vous avez trouvé quelque chose qui fonctionne, le processus de raffinement commence.\n",
    "\n",
    "À quoi ressemblerait ce processus de raffinement ?\n",
    "\n",
    "Nous utiliserons comme exemple le problème de régression des ventes de voitures (prédire le prix de vente des voitures).\n",
    "\n",
    "Pour ranger les choses, nous utiliserons la classe [`sklearn.pipeline.Pipeline`](https://scikit-learn.org/stable/modules/generated/sklearn.pipeline.Pipeline.html) de Scikit-Learn.\n",
    "\n",
    "Vous pouvez imaginer « Pipeline » comme étant un moyen d'enchaîner un certain nombre de processus Scikit-Learn différents."
   ]
  },
  {
   "cell_type": "markdown",
   "metadata": {},
   "source": [
    "### 7.1 Création d'une régression [`Pipeline`](https://scikit-learn.org/stable/modules/generated/sklearn.pipeline.Pipeline.html)\n",
    "Vous vous souviendrez peut-être de l'époque où, dans la section 2 : Préparer les données, nous avons traité des données sur les ventes de voitures, pour construire un modèle de régression sur celles-ci, nous avons dû coder les caractéristiques catégorielles en nombres et remplir les données manquantes.\n",
    "\n",
    "Le code que nous avons utilisé fonctionnait, mais il était un peu partout.\n",
    "\n",
    "La bonne nouvelle est que « Pipeline » peut nous aider à le nettoyer.\n",
    "\n",
    "Rappelons à quoi ressemblent les données."
   ]
  },
  {
   "cell_type": "code",
   "execution_count": null,
   "metadata": {},
   "outputs": [],
   "source": [
    "data = pd.read_csv(\"../data/car-sales-extended-missing-data.csv\")\n",
    "data.head()"
   ]
  },
  {
   "cell_type": "code",
   "execution_count": null,
   "metadata": {},
   "outputs": [],
   "source": [
    "data.dtypes"
   ]
  },
  {
   "cell_type": "code",
   "execution_count": null,
   "metadata": {},
   "outputs": [],
   "source": [
    "data.isna().sum()"
   ]
  },
  {
   "cell_type": "markdown",
   "metadata": {},
   "source": [
    "Il y a 1 000 lignes, trois caractéristiques sont catégorielles (« Marque », « Couleur », « Portes »), les deux autres sont numériques (« Odomètre (KM) », « Prix ») et il y a 249 valeurs manquantes.\n",
    "\n",
    "Nous allons devoir transformer les caractéristiques catégorielles en nombres et remplir les valeurs manquantes avant de pouvoir ajuster un modèle.\n",
    "\n",
    "Nous allons construire un « Pipeline » pour ce faire.\n",
    "\n",
    "Le paramètre d'entrée principal de `Pipeline` est `steps` qui est une liste de tuples (`[(step_name, action_to_take)]`) du nom de l'étape, plus l'action que vous souhaitez qu'elle effectue.\n",
    "\n",
    "Dans notre cas, vous pourriez considérer les étapes comme suit :\n",
    "1. Remplissez les données manquantes\n",
    "2. Convertissez les données en nombres\n",
    "3. Construire un modèle sur les données\n",
    "\n",
    "Faisons-le!"
   ]
  },
  {
   "cell_type": "code",
   "execution_count": 6,
   "metadata": {},
   "outputs": [
    {
     "data": {
      "text/plain": [
       "0.22188417408787875"
      ]
     },
     "execution_count": 6,
     "metadata": {},
     "output_type": "execute_result"
    }
   ],
   "source": [
    "# Préparer les données\n",
    "import pandas as pd\n",
    "from sklearn.compose import ColumnTransformer\n",
    "from sklearn.pipeline import Pipeline\n",
    "from sklearn.impute import SimpleImputer\n",
    "from sklearn.preprocessing import OneHotEncoder\n",
    "\n",
    "# La modélisation\n",
    "from sklearn.ensemble import RandomForestRegressor\n",
    "from sklearn.model_selection import train_test_split, GridSearchCV\n",
    "\n",
    "# Configurer une graine aléatoire\n",
    "import numpy as np\n",
    "np.random.seed(42)\n",
    "\n",
    "# Importez des données et supprimez les lignes avec des étiquettes manquantes\n",
    "data = pd.read_csv(\"../data/car-sales-extended-missing-data.csv\")\n",
    "data.dropna(subset=[\"Price\"], inplace=True)\n",
    "\n",
    "# Définir différentes fonctionnalités et pipelines de transformateur\n",
    "categorical_features = [\"Make\", \"Colour\"]\n",
    "categorical_transformer = Pipeline(steps=[\n",
    "    (\"imputer\", SimpleImputer(strategy=\"constant\", fill_value=\"missing\")),\n",
    "    (\"onehot\", OneHotEncoder(handle_unknown=\"ignore\"))])\n",
    "\n",
    "door_feature = [\"Doors\"]\n",
    "door_transformer = Pipeline(steps=[\n",
    "    (\"imputer\", SimpleImputer(strategy=\"constant\", fill_value=4))])\n",
    "\n",
    "numeric_features = [\"Odometer (KM)\"]\n",
    "numeric_transformer = Pipeline(steps=[\n",
    "    (\"imputer\", SimpleImputer(strategy=\"mean\"))\n",
    "])\n",
    "\n",
    "# Configurer les étapes de prétraitement (remplir les valeurs manquantes, puis convertir en nombres)\n",
    "preprocessor = ColumnTransformer(\n",
    "    transformers=[\n",
    "        (\"cat\", categorical_transformer, categorical_features),\n",
    "        (\"door\", door_transformer, door_feature),\n",
    "        (\"num\", numeric_transformer, numeric_features)])\n",
    "\n",
    "# Créer un pipeline de prétraitement et de modélisation\n",
    "model = Pipeline(steps=[(\"preprocessor\", preprocessor),\n",
    "                        (\"model\", RandomForestRegressor(n_jobs=-1))])\n",
    "\n",
    "# Fractionner les données\n",
    "X = data.drop(\"Price\", axis=1)\n",
    "y = data[\"Price\"]\n",
    "X_train, X_test, y_train, y_test = train_test_split(X, y, test_size=0.2)\n",
    "\n",
    "# Ajuster et marquer le modèle\n",
    "model.fit(X_train, y_train)\n",
    "model.score(X_test, y_test)"
   ]
  },
  {
   "cell_type": "markdown",
   "metadata": {},
   "source": [
    "Ce que nous avons fait, c'est combiner une série d'étapes de prétraitement des données (remplissage des valeurs manquantes, codage des valeurs numériques) ainsi qu'un modèle dans un « Pipeline ».\n",
    "\n",
    "Cela nettoie non seulement le code, mais garantit également que les mêmes étapes sont suivies à chaque fois que le code est exécuté plutôt que d'avoir plusieurs étapes de traitement différentes à différentes étapes.\n",
    "\n",
    "Il est également possible d'utiliser `GridSearchCV` ou `RandomizedSearchCV` avec un `Pipeline`.\n",
    "\n",
    "La principale différence est que lors de la création d'une grille d'hyperparamètres, vous devez ajouter un préfixe à chaque hyperparamètre (voir la [documentation pour `RandomForestRegressor`](https://scikit-learn.org/stable/modules/generated/sklearn.ensemble. RandomForestRegressor.html) pour une liste complète des hyperparamètres possibles à régler).\n",
    "\n",
    "Le préfixe est le nom de l'étape `Pipeline` que vous souhaitez modifier, suivi de deux traits de soulignement.\n",
    "\n",
    "Par exemple, pour ajuster les `n_estimators` de `\"model\"` dans le `Pipeline`, vous utiliseriez : `\"model__n_estimators\"` (notez le double trait de soulignement après `model__` au début).\n",
    "\n",
    "Voyons ça!\n",
    "\n",
    "> **Remarque :** En fonction de la puissance de traitement de votre ordinateur, l'exécution de la cellule ci-dessous peut prendre quelques minutes. Pour référence, cela a pris environ 60 secondes sur mon MacBook Pro M1 Pro."
   ]
  },
  {
   "cell_type": "code",
   "execution_count": 7,
   "metadata": {},
   "outputs": [
    {
     "name": "stdout",
     "output_type": "stream",
     "text": [
      "Fitting 5 folds for each of 16 candidates, totalling 80 fits\n",
      "[CV] END model__max_depth=None, model__max_features=sqrt, model__min_samples_split=2, model__n_estimators=100, preprocessor__num__imputer__strategy=mean; total time=   2.0s\n",
      "[CV] END model__max_depth=None, model__max_features=sqrt, model__min_samples_split=2, model__n_estimators=100, preprocessor__num__imputer__strategy=mean; total time=   0.2s\n",
      "[CV] END model__max_depth=None, model__max_features=sqrt, model__min_samples_split=2, model__n_estimators=100, preprocessor__num__imputer__strategy=mean; total time=   0.2s\n",
      "[CV] END model__max_depth=None, model__max_features=sqrt, model__min_samples_split=2, model__n_estimators=100, preprocessor__num__imputer__strategy=mean; total time=   0.2s\n",
      "[CV] END model__max_depth=None, model__max_features=sqrt, model__min_samples_split=2, model__n_estimators=100, preprocessor__num__imputer__strategy=mean; total time=   0.2s\n",
      "[CV] END model__max_depth=None, model__max_features=sqrt, model__min_samples_split=2, model__n_estimators=100, preprocessor__num__imputer__strategy=median; total time=   0.2s\n",
      "[CV] END model__max_depth=None, model__max_features=sqrt, model__min_samples_split=2, model__n_estimators=100, preprocessor__num__imputer__strategy=median; total time=   0.2s\n",
      "[CV] END model__max_depth=None, model__max_features=sqrt, model__min_samples_split=2, model__n_estimators=100, preprocessor__num__imputer__strategy=median; total time=   0.2s\n",
      "[CV] END model__max_depth=None, model__max_features=sqrt, model__min_samples_split=2, model__n_estimators=100, preprocessor__num__imputer__strategy=median; total time=   0.2s\n",
      "[CV] END model__max_depth=None, model__max_features=sqrt, model__min_samples_split=2, model__n_estimators=100, preprocessor__num__imputer__strategy=median; total time=   0.2s\n",
      "[CV] END model__max_depth=None, model__max_features=sqrt, model__min_samples_split=2, model__n_estimators=1000, preprocessor__num__imputer__strategy=mean; total time=   1.8s\n",
      "[CV] END model__max_depth=None, model__max_features=sqrt, model__min_samples_split=2, model__n_estimators=1000, preprocessor__num__imputer__strategy=mean; total time=   1.5s\n",
      "[CV] END model__max_depth=None, model__max_features=sqrt, model__min_samples_split=2, model__n_estimators=1000, preprocessor__num__imputer__strategy=mean; total time=   1.4s\n",
      "[CV] END model__max_depth=None, model__max_features=sqrt, model__min_samples_split=2, model__n_estimators=1000, preprocessor__num__imputer__strategy=mean; total time=   1.3s\n",
      "[CV] END model__max_depth=None, model__max_features=sqrt, model__min_samples_split=2, model__n_estimators=1000, preprocessor__num__imputer__strategy=mean; total time=   1.3s\n",
      "[CV] END model__max_depth=None, model__max_features=sqrt, model__min_samples_split=2, model__n_estimators=1000, preprocessor__num__imputer__strategy=median; total time=   1.4s\n",
      "[CV] END model__max_depth=None, model__max_features=sqrt, model__min_samples_split=2, model__n_estimators=1000, preprocessor__num__imputer__strategy=median; total time=   1.6s\n",
      "[CV] END model__max_depth=None, model__max_features=sqrt, model__min_samples_split=2, model__n_estimators=1000, preprocessor__num__imputer__strategy=median; total time=   1.4s\n",
      "[CV] END model__max_depth=None, model__max_features=sqrt, model__min_samples_split=2, model__n_estimators=1000, preprocessor__num__imputer__strategy=median; total time=   1.3s\n",
      "[CV] END model__max_depth=None, model__max_features=sqrt, model__min_samples_split=2, model__n_estimators=1000, preprocessor__num__imputer__strategy=median; total time=   1.3s\n",
      "[CV] END model__max_depth=None, model__max_features=sqrt, model__min_samples_split=4, model__n_estimators=100, preprocessor__num__imputer__strategy=mean; total time=   0.2s\n",
      "[CV] END model__max_depth=None, model__max_features=sqrt, model__min_samples_split=4, model__n_estimators=100, preprocessor__num__imputer__strategy=mean; total time=   0.2s\n",
      "[CV] END model__max_depth=None, model__max_features=sqrt, model__min_samples_split=4, model__n_estimators=100, preprocessor__num__imputer__strategy=mean; total time=   0.2s\n",
      "[CV] END model__max_depth=None, model__max_features=sqrt, model__min_samples_split=4, model__n_estimators=100, preprocessor__num__imputer__strategy=mean; total time=   0.2s\n",
      "[CV] END model__max_depth=None, model__max_features=sqrt, model__min_samples_split=4, model__n_estimators=100, preprocessor__num__imputer__strategy=mean; total time=   0.2s\n",
      "[CV] END model__max_depth=None, model__max_features=sqrt, model__min_samples_split=4, model__n_estimators=100, preprocessor__num__imputer__strategy=median; total time=   0.2s\n",
      "[CV] END model__max_depth=None, model__max_features=sqrt, model__min_samples_split=4, model__n_estimators=100, preprocessor__num__imputer__strategy=median; total time=   0.2s\n",
      "[CV] END model__max_depth=None, model__max_features=sqrt, model__min_samples_split=4, model__n_estimators=100, preprocessor__num__imputer__strategy=median; total time=   0.2s\n",
      "[CV] END model__max_depth=None, model__max_features=sqrt, model__min_samples_split=4, model__n_estimators=100, preprocessor__num__imputer__strategy=median; total time=   0.2s\n",
      "[CV] END model__max_depth=None, model__max_features=sqrt, model__min_samples_split=4, model__n_estimators=100, preprocessor__num__imputer__strategy=median; total time=   0.2s\n",
      "[CV] END model__max_depth=None, model__max_features=sqrt, model__min_samples_split=4, model__n_estimators=1000, preprocessor__num__imputer__strategy=mean; total time=   1.1s\n",
      "[CV] END model__max_depth=None, model__max_features=sqrt, model__min_samples_split=4, model__n_estimators=1000, preprocessor__num__imputer__strategy=mean; total time=   1.1s\n",
      "[CV] END model__max_depth=None, model__max_features=sqrt, model__min_samples_split=4, model__n_estimators=1000, preprocessor__num__imputer__strategy=mean; total time=   1.1s\n",
      "[CV] END model__max_depth=None, model__max_features=sqrt, model__min_samples_split=4, model__n_estimators=1000, preprocessor__num__imputer__strategy=mean; total time=   1.1s\n",
      "[CV] END model__max_depth=None, model__max_features=sqrt, model__min_samples_split=4, model__n_estimators=1000, preprocessor__num__imputer__strategy=mean; total time=   1.1s\n",
      "[CV] END model__max_depth=None, model__max_features=sqrt, model__min_samples_split=4, model__n_estimators=1000, preprocessor__num__imputer__strategy=median; total time=   1.2s\n",
      "[CV] END model__max_depth=None, model__max_features=sqrt, model__min_samples_split=4, model__n_estimators=1000, preprocessor__num__imputer__strategy=median; total time=   1.1s\n",
      "[CV] END model__max_depth=None, model__max_features=sqrt, model__min_samples_split=4, model__n_estimators=1000, preprocessor__num__imputer__strategy=median; total time=   1.2s\n",
      "[CV] END model__max_depth=None, model__max_features=sqrt, model__min_samples_split=4, model__n_estimators=1000, preprocessor__num__imputer__strategy=median; total time=   1.1s\n",
      "[CV] END model__max_depth=None, model__max_features=sqrt, model__min_samples_split=4, model__n_estimators=1000, preprocessor__num__imputer__strategy=median; total time=   1.1s\n",
      "[CV] END model__max_depth=5, model__max_features=sqrt, model__min_samples_split=2, model__n_estimators=100, preprocessor__num__imputer__strategy=mean; total time=   0.1s\n",
      "[CV] END model__max_depth=5, model__max_features=sqrt, model__min_samples_split=2, model__n_estimators=100, preprocessor__num__imputer__strategy=mean; total time=   0.2s\n",
      "[CV] END model__max_depth=5, model__max_features=sqrt, model__min_samples_split=2, model__n_estimators=100, preprocessor__num__imputer__strategy=mean; total time=   0.1s\n",
      "[CV] END model__max_depth=5, model__max_features=sqrt, model__min_samples_split=2, model__n_estimators=100, preprocessor__num__imputer__strategy=mean; total time=   0.2s\n",
      "[CV] END model__max_depth=5, model__max_features=sqrt, model__min_samples_split=2, model__n_estimators=100, preprocessor__num__imputer__strategy=mean; total time=   0.1s\n",
      "[CV] END model__max_depth=5, model__max_features=sqrt, model__min_samples_split=2, model__n_estimators=100, preprocessor__num__imputer__strategy=median; total time=   0.2s\n",
      "[CV] END model__max_depth=5, model__max_features=sqrt, model__min_samples_split=2, model__n_estimators=100, preprocessor__num__imputer__strategy=median; total time=   0.1s\n"
     ]
    },
    {
     "name": "stdout",
     "output_type": "stream",
     "text": [
      "[CV] END model__max_depth=5, model__max_features=sqrt, model__min_samples_split=2, model__n_estimators=100, preprocessor__num__imputer__strategy=median; total time=   0.2s\n",
      "[CV] END model__max_depth=5, model__max_features=sqrt, model__min_samples_split=2, model__n_estimators=100, preprocessor__num__imputer__strategy=median; total time=   0.2s\n",
      "[CV] END model__max_depth=5, model__max_features=sqrt, model__min_samples_split=2, model__n_estimators=100, preprocessor__num__imputer__strategy=median; total time=   0.2s\n",
      "[CV] END model__max_depth=5, model__max_features=sqrt, model__min_samples_split=2, model__n_estimators=1000, preprocessor__num__imputer__strategy=mean; total time=   1.0s\n",
      "[CV] END model__max_depth=5, model__max_features=sqrt, model__min_samples_split=2, model__n_estimators=1000, preprocessor__num__imputer__strategy=mean; total time=   1.0s\n",
      "[CV] END model__max_depth=5, model__max_features=sqrt, model__min_samples_split=2, model__n_estimators=1000, preprocessor__num__imputer__strategy=mean; total time=   1.0s\n",
      "[CV] END model__max_depth=5, model__max_features=sqrt, model__min_samples_split=2, model__n_estimators=1000, preprocessor__num__imputer__strategy=mean; total time=   1.0s\n",
      "[CV] END model__max_depth=5, model__max_features=sqrt, model__min_samples_split=2, model__n_estimators=1000, preprocessor__num__imputer__strategy=mean; total time=   1.0s\n",
      "[CV] END model__max_depth=5, model__max_features=sqrt, model__min_samples_split=2, model__n_estimators=1000, preprocessor__num__imputer__strategy=median; total time=   1.0s\n",
      "[CV] END model__max_depth=5, model__max_features=sqrt, model__min_samples_split=2, model__n_estimators=1000, preprocessor__num__imputer__strategy=median; total time=   1.0s\n",
      "[CV] END model__max_depth=5, model__max_features=sqrt, model__min_samples_split=2, model__n_estimators=1000, preprocessor__num__imputer__strategy=median; total time=   1.0s\n",
      "[CV] END model__max_depth=5, model__max_features=sqrt, model__min_samples_split=2, model__n_estimators=1000, preprocessor__num__imputer__strategy=median; total time=   1.0s\n",
      "[CV] END model__max_depth=5, model__max_features=sqrt, model__min_samples_split=2, model__n_estimators=1000, preprocessor__num__imputer__strategy=median; total time=   1.0s\n",
      "[CV] END model__max_depth=5, model__max_features=sqrt, model__min_samples_split=4, model__n_estimators=100, preprocessor__num__imputer__strategy=mean; total time=   0.1s\n",
      "[CV] END model__max_depth=5, model__max_features=sqrt, model__min_samples_split=4, model__n_estimators=100, preprocessor__num__imputer__strategy=mean; total time=   0.2s\n",
      "[CV] END model__max_depth=5, model__max_features=sqrt, model__min_samples_split=4, model__n_estimators=100, preprocessor__num__imputer__strategy=mean; total time=   0.2s\n",
      "[CV] END model__max_depth=5, model__max_features=sqrt, model__min_samples_split=4, model__n_estimators=100, preprocessor__num__imputer__strategy=mean; total time=   0.2s\n",
      "[CV] END model__max_depth=5, model__max_features=sqrt, model__min_samples_split=4, model__n_estimators=100, preprocessor__num__imputer__strategy=mean; total time=   0.2s\n",
      "[CV] END model__max_depth=5, model__max_features=sqrt, model__min_samples_split=4, model__n_estimators=100, preprocessor__num__imputer__strategy=median; total time=   0.2s\n",
      "[CV] END model__max_depth=5, model__max_features=sqrt, model__min_samples_split=4, model__n_estimators=100, preprocessor__num__imputer__strategy=median; total time=   0.1s\n",
      "[CV] END model__max_depth=5, model__max_features=sqrt, model__min_samples_split=4, model__n_estimators=100, preprocessor__num__imputer__strategy=median; total time=   0.2s\n",
      "[CV] END model__max_depth=5, model__max_features=sqrt, model__min_samples_split=4, model__n_estimators=100, preprocessor__num__imputer__strategy=median; total time=   0.1s\n",
      "[CV] END model__max_depth=5, model__max_features=sqrt, model__min_samples_split=4, model__n_estimators=100, preprocessor__num__imputer__strategy=median; total time=   0.2s\n",
      "[CV] END model__max_depth=5, model__max_features=sqrt, model__min_samples_split=4, model__n_estimators=1000, preprocessor__num__imputer__strategy=mean; total time=   1.0s\n",
      "[CV] END model__max_depth=5, model__max_features=sqrt, model__min_samples_split=4, model__n_estimators=1000, preprocessor__num__imputer__strategy=mean; total time=   1.0s\n",
      "[CV] END model__max_depth=5, model__max_features=sqrt, model__min_samples_split=4, model__n_estimators=1000, preprocessor__num__imputer__strategy=mean; total time=   1.0s\n",
      "[CV] END model__max_depth=5, model__max_features=sqrt, model__min_samples_split=4, model__n_estimators=1000, preprocessor__num__imputer__strategy=mean; total time=   1.0s\n",
      "[CV] END model__max_depth=5, model__max_features=sqrt, model__min_samples_split=4, model__n_estimators=1000, preprocessor__num__imputer__strategy=mean; total time=   1.0s\n",
      "[CV] END model__max_depth=5, model__max_features=sqrt, model__min_samples_split=4, model__n_estimators=1000, preprocessor__num__imputer__strategy=median; total time=   1.0s\n",
      "[CV] END model__max_depth=5, model__max_features=sqrt, model__min_samples_split=4, model__n_estimators=1000, preprocessor__num__imputer__strategy=median; total time=   1.0s\n",
      "[CV] END model__max_depth=5, model__max_features=sqrt, model__min_samples_split=4, model__n_estimators=1000, preprocessor__num__imputer__strategy=median; total time=   1.0s\n",
      "[CV] END model__max_depth=5, model__max_features=sqrt, model__min_samples_split=4, model__n_estimators=1000, preprocessor__num__imputer__strategy=median; total time=   1.0s\n",
      "[CV] END model__max_depth=5, model__max_features=sqrt, model__min_samples_split=4, model__n_estimators=1000, preprocessor__num__imputer__strategy=median; total time=   1.1s\n"
     ]
    },
    {
     "data": {
      "text/plain": [
       "GridSearchCV(cv=5,\n",
       "             estimator=Pipeline(steps=[('preprocessor',\n",
       "                                        ColumnTransformer(transformers=[('cat',\n",
       "                                                                         Pipeline(steps=[('imputer',\n",
       "                                                                                          SimpleImputer(fill_value='missing',\n",
       "                                                                                                        strategy='constant')),\n",
       "                                                                                         ('onehot',\n",
       "                                                                                          OneHotEncoder(handle_unknown='ignore'))]),\n",
       "                                                                         ['Make',\n",
       "                                                                          'Colour']),\n",
       "                                                                        ('door',\n",
       "                                                                         Pipeline(steps=[('imputer',\n",
       "                                                                                          SimpleImputer(fill_value=4,\n",
       "                                                                                                        strategy='constant'))]),\n",
       "                                                                         ['Doors']),\n",
       "                                                                        ('num',\n",
       "                                                                         Pipeline(steps=[('imputer',\n",
       "                                                                                          SimpleImputer())]),\n",
       "                                                                         ['Odometer '\n",
       "                                                                          '(KM)'])])),\n",
       "                                       ('model',\n",
       "                                        RandomForestRegressor(n_jobs=-1))]),\n",
       "             param_grid={'model__max_depth': [None, 5],\n",
       "                         'model__max_features': ['sqrt'],\n",
       "                         'model__min_samples_split': [2, 4],\n",
       "                         'model__n_estimators': [100, 1000],\n",
       "                         'preprocessor__num__imputer__strategy': ['mean',\n",
       "                                                                  'median']},\n",
       "             verbose=2)"
      ]
     },
     "execution_count": 7,
     "metadata": {},
     "output_type": "execute_result"
    }
   ],
   "source": [
    "# Utilisation de la recherche par grille avec pipeline\n",
    "pipe_grid = {\n",
    "    \"preprocessor__num__imputer__strategy\": [\"mean\", \"median\"], # notez le double trait de soulignement après chaque préfixe \"preprocessor__\"\n",
    "    \"model__n_estimators\": [100, 1000],\n",
    "    \"model__max_depth\": [None, 5],\n",
    "    \"model__max_features\": [\"sqrt\"],\n",
    "    \"model__min_samples_split\": [2, 4]\n",
    "}\n",
    "\n",
    "gs_model = GridSearchCV(model, pipe_grid, cv=5, verbose=2)\n",
    "gs_model.fit(X_train, y_train)"
   ]
  },
  {
   "cell_type": "markdown",
   "metadata": {},
   "source": [
    "Trouvons maintenant le score de notre modèle (par défaut `GridSearchCV` enregistre le meilleur modèle dans l'objet `gs_model`)."
   ]
  },
  {
   "cell_type": "code",
   "execution_count": 8,
   "metadata": {},
   "outputs": [
    {
     "data": {
      "text/plain": [
       "0.2848784564026806"
      ]
     },
     "execution_count": 8,
     "metadata": {},
     "output_type": "execute_result"
    }
   ],
   "source": [
    "# Notez le meilleur modèle\n",
    "gs_model.score(X_test, y_test)"
   ]
  },
  {
   "cell_type": "markdown",
   "metadata": {},
   "source": [
    "En utilisant `GridSearchCV`, nous constatons une belle augmentation du score de nos modèles.\n",
    "\n",
    "Et le meilleur, c'est que, comme tout est dans un « Pipeline », nous pourrions facilement reproduire ces résultats."
   ]
  }
 ],
 "metadata": {
  "kernelspec": {
   "display_name": "Python 3 (ipykernel)",
   "language": "python",
   "name": "python3"
  },
  "language_info": {
   "codemirror_mode": {
    "name": "ipython",
    "version": 3
   },
   "file_extension": ".py",
   "mimetype": "text/x-python",
   "name": "python",
   "nbconvert_exporter": "python",
   "pygments_lexer": "ipython3",
   "version": "3.8.9"
  },
  "vscode": {
   "interpreter": {
    "hash": "c556f6eb84b27a92005489cdcf9c9b80cc62ee891441f20eabfc5ad7282165a3"
   }
  }
 },
 "nbformat": 4,
 "nbformat_minor": 4
}
