{
 "cells": [
  {
   "cell_type": "code",
   "execution_count": 1,
   "metadata": {},
   "outputs": [],
   "source": [
    "import datetime\n",
    "import numpy as np\n",
    "import pandas as pd\n"
   ]
  },
  {
   "cell_type": "code",
   "execution_count": null,
   "metadata": {},
   "outputs": [],
   "source": [
    "#! pip install scikit-learn==1.3.0"
   ]
  },
  {
   "cell_type": "markdown",
   "metadata": {},
   "source": [
    "## 2. Choisir le bon estimateur/algorithme pour votre problème\n",
    "\n",
    "Une fois que vos données sont prêtes, l'étape suivante consiste à choisir un algorithme ou un modèle d'apprentissage automatique approprié pour trouver des modèles dans vos données.\n",
    "\n",
    "Quelques points à noter :\n",
    "* Scikit-Learn fait référence aux modèles et algorithmes d'apprentissage automatique en tant qu'estimateurs.\n",
    "* **Problème de classification** - prédire une catégorie (maladie cardiaque ou non).\n",
    "     * Parfois, vous verrez `clf` (abréviation de classificateur) utilisé comme nom de variable d'une instance d'estimateur de classification.\n",
    "* **Problème de régression** - prédire un nombre (prix de vente d'une voiture).\n",
    "* **Problème non supervisé (données sans étiquettes)** - clustering (regroupement d'échantillons non étiquetés avec d'autres échantillons similaires non étiquetés).\n",
    "\n",
    "Si vous savez sur quel type de problème vous travaillez, l'un des prochains endroits que vous devriez examiner est le [Scikit-Learn algorithm cheatsheet](https://scikit-learn.org/stable/tutorial/machine_learning_map/index.html).\n",
    "\n",
    "Cette aide-mémoire vous donne un aperçu de l'algorithme que vous souhaiterez peut-être utiliser pour le problème sur lequel vous travaillez.\n",
    "\n",
    "Il est important de se rappeler que vous n’avez pas besoin de savoir explicitement ce que fait chaque algorithme à l’intérieur pour commencer à les utiliser.\n",
    "\n",
    "Si vous commencez à appliquer différents algorithmes mais qu'ils ne semblent pas fonctionner (pas aussi bien que vous le souhaiteriez), c'est à ce moment-là que vous commencerez à approfondir chacun d'entre eux.\n",
    "\n",
    "Jetons un coup d'œil à l'aide-mémoire et suivons-le pour découvrir certains des problèmes sur lesquels nous travaillons.\n",
    "\n",
    "<img src=\"../docs/images/sklearn-ml-map.png\" width=700/>\n",
    "\n",
    "Vous pouvez voir qu’il est divisé en quatre catégories principales. Régression, classification, clustering et réduction de dimensionnalité. Chacun a son propre objectif, mais l'équipe Scikit-Learn a conçu la bibliothèque de manière à ce que les flux de travail pour chacun soient relativement similaires."
   ]
  },
  {
   "cell_type": "markdown",
   "metadata": {},
   "source": [
    "### 2.1 Choisir un modèle d'apprentissage automatique pour un problème de régression\n",
    "\n",
    "Commençons par un problème de régression (essayer de prédire un nombre). Nous utiliserons le [ensemble de données California Housing](https://scikit-learn.org/stable/datasets/real_world.html#california-housing-dataset) intégré au module « datasets » de Scikit-Learn.\n",
    "\n",
    "L'objectif de l'ensemble de données California Housing est de prédire la valeur médiane d'une maison d'un quartier donné (en centaines de milliers de dollars) sur des éléments tels que l'âge de la maison, le nombre de pièces, le nombre de chambres, le nombre de personnes vivant dans la maison et plus."
   ]
  },
  {
   "cell_type": "code",
   "execution_count": 4,
   "metadata": {},
   "outputs": [],
   "source": [
    "# Obtenez l'ensemble de données sur le logement en Californie\n",
    "from sklearn.datasets import fetch_california_housing\n",
    "\n",
    "housing = fetch_california_housing()\n",
    "housing; # est téléchargé sous forme de dictionnaire"
   ]
  },
  {
   "cell_type": "markdown",
   "metadata": {},
   "source": [
    "Puisqu'il se trouve dans un dictionnaire, transformons-le en DataFrame afin de mieux l'inspecter."
   ]
  },
  {
   "cell_type": "code",
   "execution_count": 5,
   "metadata": {},
   "outputs": [
    {
     "data": {
      "text/html": [
       "<div>\n",
       "<style scoped>\n",
       "    .dataframe tbody tr th:only-of-type {\n",
       "        vertical-align: middle;\n",
       "    }\n",
       "\n",
       "    .dataframe tbody tr th {\n",
       "        vertical-align: top;\n",
       "    }\n",
       "\n",
       "    .dataframe thead th {\n",
       "        text-align: right;\n",
       "    }\n",
       "</style>\n",
       "<table border=\"1\" class=\"dataframe\">\n",
       "  <thead>\n",
       "    <tr style=\"text-align: right;\">\n",
       "      <th></th>\n",
       "      <th>MedInc</th>\n",
       "      <th>HouseAge</th>\n",
       "      <th>AveRooms</th>\n",
       "      <th>AveBedrms</th>\n",
       "      <th>Population</th>\n",
       "      <th>AveOccup</th>\n",
       "      <th>Latitude</th>\n",
       "      <th>Longitude</th>\n",
       "      <th>target</th>\n",
       "    </tr>\n",
       "  </thead>\n",
       "  <tbody>\n",
       "    <tr>\n",
       "      <th>0</th>\n",
       "      <td>8.3252</td>\n",
       "      <td>41.0</td>\n",
       "      <td>6.984127</td>\n",
       "      <td>1.023810</td>\n",
       "      <td>322.0</td>\n",
       "      <td>2.555556</td>\n",
       "      <td>37.88</td>\n",
       "      <td>-122.23</td>\n",
       "      <td>4.526</td>\n",
       "    </tr>\n",
       "    <tr>\n",
       "      <th>1</th>\n",
       "      <td>8.3014</td>\n",
       "      <td>21.0</td>\n",
       "      <td>6.238137</td>\n",
       "      <td>0.971880</td>\n",
       "      <td>2401.0</td>\n",
       "      <td>2.109842</td>\n",
       "      <td>37.86</td>\n",
       "      <td>-122.22</td>\n",
       "      <td>3.585</td>\n",
       "    </tr>\n",
       "    <tr>\n",
       "      <th>2</th>\n",
       "      <td>7.2574</td>\n",
       "      <td>52.0</td>\n",
       "      <td>8.288136</td>\n",
       "      <td>1.073446</td>\n",
       "      <td>496.0</td>\n",
       "      <td>2.802260</td>\n",
       "      <td>37.85</td>\n",
       "      <td>-122.24</td>\n",
       "      <td>3.521</td>\n",
       "    </tr>\n",
       "    <tr>\n",
       "      <th>3</th>\n",
       "      <td>5.6431</td>\n",
       "      <td>52.0</td>\n",
       "      <td>5.817352</td>\n",
       "      <td>1.073059</td>\n",
       "      <td>558.0</td>\n",
       "      <td>2.547945</td>\n",
       "      <td>37.85</td>\n",
       "      <td>-122.25</td>\n",
       "      <td>3.413</td>\n",
       "    </tr>\n",
       "    <tr>\n",
       "      <th>4</th>\n",
       "      <td>3.8462</td>\n",
       "      <td>52.0</td>\n",
       "      <td>6.281853</td>\n",
       "      <td>1.081081</td>\n",
       "      <td>565.0</td>\n",
       "      <td>2.181467</td>\n",
       "      <td>37.85</td>\n",
       "      <td>-122.25</td>\n",
       "      <td>3.422</td>\n",
       "    </tr>\n",
       "  </tbody>\n",
       "</table>\n",
       "</div>"
      ],
      "text/plain": [
       "   MedInc  HouseAge  AveRooms  AveBedrms  Population  AveOccup  Latitude  \\\n",
       "0  8.3252      41.0  6.984127   1.023810       322.0  2.555556     37.88   \n",
       "1  8.3014      21.0  6.238137   0.971880      2401.0  2.109842     37.86   \n",
       "2  7.2574      52.0  8.288136   1.073446       496.0  2.802260     37.85   \n",
       "3  5.6431      52.0  5.817352   1.073059       558.0  2.547945     37.85   \n",
       "4  3.8462      52.0  6.281853   1.081081       565.0  2.181467     37.85   \n",
       "\n",
       "   Longitude  target  \n",
       "0    -122.23   4.526  \n",
       "1    -122.22   3.585  \n",
       "2    -122.24   3.521  \n",
       "3    -122.25   3.413  \n",
       "4    -122.25   3.422  "
      ]
     },
     "execution_count": 5,
     "metadata": {},
     "output_type": "execute_result"
    }
   ],
   "source": [
    "housing_df = pd.DataFrame(housing[\"data\"], columns=housing[\"feature_names\"])\n",
    "housing_df[\"target\"] = pd.Series(housing[\"target\"])\n",
    "housing_df.head()"
   ]
  },
  {
   "cell_type": "code",
   "execution_count": 6,
   "metadata": {},
   "outputs": [
    {
     "data": {
      "text/plain": [
       "20640"
      ]
     },
     "execution_count": 6,
     "metadata": {},
     "output_type": "execute_result"
    }
   ],
   "source": [
    "# Combien d'exemples ?\n",
    "len(housing_df)"
   ]
  },
  {
   "cell_type": "markdown",
   "metadata": {},
   "source": [
    "Magnifique, notre objectif ici est d'utiliser les colonnes de fonctionnalités, telles que :\n",
    "* `MedInc` - revenu médian dans le groupe de blocs\n",
    "* `HouseAge` - âge médian de la maison dans le groupe de blocs\n",
    "* `AveRooms` - nombre moyen de pièces par ménage\n",
    "* `AveBedrms` - nombre moyen de chambres par ménage\n",
    "\n",
    "Prédire la colonne « cible » qui exprime la valeur médiane de la maison pour des districts spécifiques de Californie en centaines de milliers de dollars (par exemple 4,526 = 452 600 $).\n",
    "\n",
    "Essentiellement, chaque ligne correspond à un district différent de Californie (les données) et nous essayons de construire un modèle pour prédire la valeur médiane des maisons dans cette zone (la cible/l'étiquette) en fonction d'une série d'attributs sur les maisons de ce district. .\n",
    "\n",
    "Puisque nous disposons de données et d’étiquettes, il s’agit d’un problème d’apprentissage supervisé.\n",
    "\n",
    "Et puisque nous essayons de prédire un nombre, c'est un problème de régression.\n",
    "\n",
    "Sachant ces deux choses, comment s'alignent-elles sur l'aide-mémoire de l'algorithme d'apprentissage automatique Scikit-Learn ?\n",
    "\n",
    "<img src=\"../docs/images/sklearn-ml-map-cheatsheet-california-housing-ridge.png\" width=700/>\n",
    "\n",
    "En suivant la carte, sachant ce que nous savons, cela nous suggère d'essayer [`RidgeRegression`](https://scikit-learn.org/stable/modules/linear_model.html#ridge-regression). Vérifions-le."
   ]
  },
  {
   "cell_type": "code",
   "execution_count": 7,
   "metadata": {},
   "outputs": [
    {
     "data": {
      "text/plain": [
       "0.5758549611440126"
      ]
     },
     "execution_count": 7,
     "metadata": {},
     "output_type": "execute_result"
    }
   ],
   "source": [
    "# Importez la classe de modèle Ridge depuis le module Linear_model\n",
    "from sklearn.linear_model import Ridge\n",
    "from sklearn.model_selection import train_test_split\n",
    "\n",
    "# Configurer une graine aléatoire\n",
    "np.random.seed(42)\n",
    "\n",
    "# Divisez les données en fonctionnalités (X) et étiquettes (y)\n",
    "X = housing_df.drop(\"target\", axis=1)\n",
    "y = housing_df[\"target\"]\n",
    "\n",
    "# Divisé en ensembles de train et de test\n",
    "X_train, X_test, y_train, y_test = train_test_split(X, y, test_size=0.2)\n",
    "\n",
    "# Instaurer et ajuster le modèle (sur l'ensemble d'entraînement)\n",
    "model = Ridge()\n",
    "model.fit(X_train, y_train)\n",
    "\n",
    "# Vérifier le score du modèle (sur l'ensemble de test)\n",
    "# La métrique score() par défaut des algorithmes de régression est R^2\n",
    "model.score(X_test, y_test)"
   ]
  },
  {
   "cell_type": "markdown",
   "metadata": {},
   "source": [
    "Et si « RidgeRegression » ne fonctionnait pas ? Et si nous voulions améliorer nos résultats ?\n",
    "\n",
    "<img src=\"../docs/images/sklearn-ml-map-cheatsheet-california-housing-ensemble.png\" width=700/>\n",
    "\n",
    "En suivant le diagramme, l'étape suivante serait d'essayer [`EnsembleRegressors`](https://scikit-learn.org/stable/modules/ensemble.html).\n",
    "\n",
    "Ensemble est un autre mot désignant plusieurs modèles réunis pour prendre une décision.\n",
    "\n",
    "L'une des méthodes d'ensemble les plus courantes et les plus utiles est la [Random Forest](https://scikit-learn.org/stable/modules/ensemble.html#forest). Connu pour ses temps de formation et de prédiction rapides et son adaptabilité à différents problèmes.\n",
    "\n",
    "Le principe de base de Random Forest est de combiner un certain nombre d’arbres de décision différents, chacun aléatoirement les uns par rapport aux autres, et de faire une prédiction sur un échantillon en faisant la moyenne du résultat de chaque arbre de décision.\n",
    "\n",
    "Une discussion approfondie de l'algorithme Random Forest dépasse le cadre de ce cahier, mais si vous souhaitez en savoir plus, [Une implémentation et une explication de la forêt aléatoire en Python](https://towardsdatascience.com/an- implémentation-et-explication-de-la-forêt-aléatoire-dans-python-77bf308a9b76) de Will Koehrsen est une excellente lecture.\n",
    "\n",
    "Puisque nous travaillons avec la régression, nous utiliserons [`RandomForestRegressor`](https://scikit-learn.org/stable/modules/generated/sklearn.ensemble.RandomForestRegressor.html) de Scikit-Learn.\n",
    "\n",
    "Nous pouvons utiliser exactement le même flux de travail que ci-dessus. Sauf pour changer de modèle."
   ]
  },
  {
   "cell_type": "code",
   "execution_count": 8,
   "metadata": {},
   "outputs": [
    {
     "data": {
      "text/plain": [
       "0.8066196804802649"
      ]
     },
     "execution_count": 8,
     "metadata": {},
     "output_type": "execute_result"
    }
   ],
   "source": [
    "# Importez la classe modèle RandomForestRegressor depuis le module ensemble\n",
    "from sklearn.ensemble import RandomForestRegressor\n",
    "\n",
    "# Configurer une graine aléatoire\n",
    "np.random.seed(42)\n",
    "\n",
    "# Divisez les données en fonctionnalités (X) et étiquettes (y)\n",
    "X = housing_df.drop(\"target\", axis=1)\n",
    "y = housing_df[\"target\"]\n",
    "\n",
    "# Divisé en ensembles de train et de test\n",
    "X_train, X_test, y_train, y_test = train_test_split(X, y, test_size=0.2)\n",
    "\n",
    "# Instaurer et ajuster le modèle (sur l'ensemble d'entraînement)\n",
    "model = RandomForestRegressor()\n",
    "model.fit(X_train, y_train)\n",
    "\n",
    "# Vérifier le score du modèle (sur l'ensemble de test)\n",
    "# La métrique de score par défaut des algorithmes de régression est R^2\n",
    "model.score(X_test, y_test)"
   ]
  },
  {
   "cell_type": "markdown",
   "metadata": {},
   "source": [
    "Nous obtenons une bonne augmentation du score sur l’ensemble de tests en changeant de modèle.\n",
    "\n",
    "Il s'agit d'un autre concept extrêmement important dans l'apprentissage automatique : si au début quelque chose ne donne pas ce que vous souhaitez, *expérimentez, expérimentez, expérimentez !*\n",
    "\n",
    "Au début, le diagramme de l'algorithme Scikit-Learn peut sembler déroutant.\n",
    "\n",
    "Mais une fois que vous aurez un peu de pratique en appliquant différents modèles à différents problèmes, vous commencerez à déterminer quels types d'algorithmes fonctionnent le mieux avec différents types de données."
   ]
  },
  {
   "cell_type": "markdown",
   "metadata": {},
   "source": [
    "### 2.2 Choisir un modèle d'apprentissage automatique pour un problème de classification\n",
    "\n",
    "Voyons maintenant le processus de choix pour un problème de classification.\n",
    "\n",
    "Supposons que vous essayiez de prédire si un patient souffrait ou non d'une maladie cardiaque en fonction de son dossier médical.\n",
    "\n",
    "L'ensemble de données dans `../data/heart-disease.csv` contient des données uniquement pour ce problème."
   ]
  },
  {
   "cell_type": "code",
   "execution_count": 9,
   "metadata": {},
   "outputs": [
    {
     "data": {
      "text/html": [
       "<div>\n",
       "<style scoped>\n",
       "    .dataframe tbody tr th:only-of-type {\n",
       "        vertical-align: middle;\n",
       "    }\n",
       "\n",
       "    .dataframe tbody tr th {\n",
       "        vertical-align: top;\n",
       "    }\n",
       "\n",
       "    .dataframe thead th {\n",
       "        text-align: right;\n",
       "    }\n",
       "</style>\n",
       "<table border=\"1\" class=\"dataframe\">\n",
       "  <thead>\n",
       "    <tr style=\"text-align: right;\">\n",
       "      <th></th>\n",
       "      <th>age</th>\n",
       "      <th>sex</th>\n",
       "      <th>cp</th>\n",
       "      <th>trestbps</th>\n",
       "      <th>chol</th>\n",
       "      <th>fbs</th>\n",
       "      <th>restecg</th>\n",
       "      <th>thalach</th>\n",
       "      <th>exang</th>\n",
       "      <th>oldpeak</th>\n",
       "      <th>slope</th>\n",
       "      <th>ca</th>\n",
       "      <th>thal</th>\n",
       "      <th>target</th>\n",
       "    </tr>\n",
       "  </thead>\n",
       "  <tbody>\n",
       "    <tr>\n",
       "      <th>0</th>\n",
       "      <td>63</td>\n",
       "      <td>1</td>\n",
       "      <td>3</td>\n",
       "      <td>145</td>\n",
       "      <td>233</td>\n",
       "      <td>1</td>\n",
       "      <td>0</td>\n",
       "      <td>150</td>\n",
       "      <td>0</td>\n",
       "      <td>2.3</td>\n",
       "      <td>0</td>\n",
       "      <td>0</td>\n",
       "      <td>1</td>\n",
       "      <td>1</td>\n",
       "    </tr>\n",
       "    <tr>\n",
       "      <th>1</th>\n",
       "      <td>37</td>\n",
       "      <td>1</td>\n",
       "      <td>2</td>\n",
       "      <td>130</td>\n",
       "      <td>250</td>\n",
       "      <td>0</td>\n",
       "      <td>1</td>\n",
       "      <td>187</td>\n",
       "      <td>0</td>\n",
       "      <td>3.5</td>\n",
       "      <td>0</td>\n",
       "      <td>0</td>\n",
       "      <td>2</td>\n",
       "      <td>1</td>\n",
       "    </tr>\n",
       "    <tr>\n",
       "      <th>2</th>\n",
       "      <td>41</td>\n",
       "      <td>0</td>\n",
       "      <td>1</td>\n",
       "      <td>130</td>\n",
       "      <td>204</td>\n",
       "      <td>0</td>\n",
       "      <td>0</td>\n",
       "      <td>172</td>\n",
       "      <td>0</td>\n",
       "      <td>1.4</td>\n",
       "      <td>2</td>\n",
       "      <td>0</td>\n",
       "      <td>2</td>\n",
       "      <td>1</td>\n",
       "    </tr>\n",
       "    <tr>\n",
       "      <th>3</th>\n",
       "      <td>56</td>\n",
       "      <td>1</td>\n",
       "      <td>1</td>\n",
       "      <td>120</td>\n",
       "      <td>236</td>\n",
       "      <td>0</td>\n",
       "      <td>1</td>\n",
       "      <td>178</td>\n",
       "      <td>0</td>\n",
       "      <td>0.8</td>\n",
       "      <td>2</td>\n",
       "      <td>0</td>\n",
       "      <td>2</td>\n",
       "      <td>1</td>\n",
       "    </tr>\n",
       "    <tr>\n",
       "      <th>4</th>\n",
       "      <td>57</td>\n",
       "      <td>0</td>\n",
       "      <td>0</td>\n",
       "      <td>120</td>\n",
       "      <td>354</td>\n",
       "      <td>0</td>\n",
       "      <td>1</td>\n",
       "      <td>163</td>\n",
       "      <td>1</td>\n",
       "      <td>0.6</td>\n",
       "      <td>2</td>\n",
       "      <td>0</td>\n",
       "      <td>2</td>\n",
       "      <td>1</td>\n",
       "    </tr>\n",
       "  </tbody>\n",
       "</table>\n",
       "</div>"
      ],
      "text/plain": [
       "   age  sex  cp  trestbps  chol  fbs  restecg  thalach  exang  oldpeak  slope  \\\n",
       "0   63    1   3       145   233    1        0      150      0      2.3      0   \n",
       "1   37    1   2       130   250    0        1      187      0      3.5      0   \n",
       "2   41    0   1       130   204    0        0      172      0      1.4      2   \n",
       "3   56    1   1       120   236    0        1      178      0      0.8      2   \n",
       "4   57    0   0       120   354    0        1      163      1      0.6      2   \n",
       "\n",
       "   ca  thal  target  \n",
       "0   0     1       1  \n",
       "1   0     2       1  \n",
       "2   0     2       1  \n",
       "3   0     2       1  \n",
       "4   0     2       1  "
      ]
     },
     "execution_count": 9,
     "metadata": {},
     "output_type": "execute_result"
    }
   ],
   "source": [
    "heart_disease = pd.read_csv(\"../data/heart-disease.csv\")\n",
    "heart_disease.head()"
   ]
  },
  {
   "cell_type": "code",
   "execution_count": 10,
   "metadata": {},
   "outputs": [
    {
     "data": {
      "text/plain": [
       "303"
      ]
     },
     "execution_count": 10,
     "metadata": {},
     "output_type": "execute_result"
    }
   ],
   "source": [
    "# Combien il-y-a t'il d'exemples ?\n",
    "len(heart_disease)"
   ]
  },
  {
   "cell_type": "markdown",
   "metadata": {},
   "source": [
    "Semblable à l'ensemble de données California Housing, nous souhaitons ici utiliser toutes les données disponibles pour prédire la colonne cible (1 pour si un patient souffre d'une maladie cardiaque et 0 pour le cas contraire).\n",
    "\n",
    "Alors, que savons-nous?\n",
    "\n",
    "Nous avons 303 échantillons (1 ligne = 1 échantillon) et nous essayons de prédire si un patient souffre ou non d'une maladie cardiaque.\n",
    "\n",
    "Parce que nous essayons de prédire si chaque échantillon est une chose ou une autre, nous avons un problème de classification.\n",
    "\n",
    "Voyons comment cela s'aligne avec notre [Scikit-Learn algorithm cheat-sheet](https://scikit-learn.org/stable/tutorial/machine_learning_map/index.html).\n",
    "\n",
    "<img src=\"../docs/images/sklearn-ml-map-cheatsheet-heart-disease-linear-svc.png\" width=700/>\n",
    "\n",
    "Suite à l'aide-mémoire, nous nous retrouvons à [`LinearSVC`](https://scikit-learn.org/stable/modules/generated/sklearn.svm.LinearSVC.html#sklearn.svm.LinearSVC) qui signifie Classificateur de Vecteur de Support Linéaire. Essayons-le sur nos données."
   ]
  },
  {
   "cell_type": "code",
   "execution_count": 11,
   "metadata": {},
   "outputs": [
    {
     "data": {
      "text/plain": [
       "0.8688524590163934"
      ]
     },
     "execution_count": 11,
     "metadata": {},
     "output_type": "execute_result"
    }
   ],
   "source": [
    "# Importez LinearSVC du module svm\n",
    "from sklearn.svm import LinearSVC\n",
    "\n",
    "# Configurer une graine aléatoire\n",
    "np.random.seed(42)\n",
    "\n",
    "# Divisez les données en X (caractéristiques/données) et y (cible/étiquettes)\n",
    "X = heart_disease.drop(\"target\", axis=1)\n",
    "y = heart_disease[\"target\"]\n",
    "\n",
    "# Divisé en ensembles de train et de test\n",
    "X_train, X_test, y_train, y_test = train_test_split(X, y, test_size=0.2)\n",
    "\n",
    "# Instancier et ajuster le modèle (sur l'ensemble d'entraînement)\n",
    "clf = LinearSVC(max_iter=1000, # itérations sur les données, 1 000 est la valeur par défaut\n",
    "                dual=False)\n",
    "clf.fit(X_train, y_train)\n",
    "\n",
    "# Vérifier le score du modèle (sur l'ensemble de test)\n",
    "clf.score(X_test, y_test)"
   ]
  },
  {
   "cell_type": "markdown",
   "metadata": {},
   "source": [
    "Dès la sortie de la boîte (sans réglage ni amélioration), notre modèle atteint une précision de plus de 85 % !\n",
    "\n",
    "Bien qu'il s'agisse d'un résultat sensationnel au départ, regardons le diagramme et voyons quels autres modèles nous pourrions utiliser.\n",
    "\n",
    "<img src=\"../docs/images/sklearn-ml-map-cheatsheet-heart-disease-ensemble.png\" width=700/>\n",
    "\n",
    "En suivant le chemin (et en en sautant quelques-uns, ne vous inquiétez pas, nous y reviendrons), nous arrivons à [`EnsembleMethods`](https://scikit-learn.org/stable/modules/ensemble.html) encore. \n",
    "\n",
    "Sauf que cette fois, nous examinerons des classificateurs d'ensemble plutôt que des régresseurs.\n",
    "\n",
    "Rappelez-vous notre [`RandomForestRegressor`](https://scikit-learn.org/stable/modules/generated/sklearn.ensemble.RandomForestRegressor.html) d'en haut?\n",
    "\n",
    "Nous aurons un partenaire de danse, [`RandomForestClassifier`](https://scikit-learn.org/stable/modules/generated/sklearn.ensemble.RandomForestClassifier.html) qui est un modèle d'apprentissage automatique basé sur un ensemble pour la classification.\n",
    "\n",
    "Vous pourrez peut-être deviner à quoi nous pouvons l'utiliser (indice : problèmes de classification).\n",
    "\n",
    "Essayons!"
   ]
  },
  {
   "cell_type": "code",
   "execution_count": 12,
   "metadata": {},
   "outputs": [
    {
     "data": {
      "text/plain": [
       "0.8524590163934426"
      ]
     },
     "execution_count": 12,
     "metadata": {},
     "output_type": "execute_result"
    }
   ],
   "source": [
    "# Importez la classe modèle RandomForestClassifier depuis le module ensemble\n",
    "from sklearn.ensemble import RandomForestClassifier\n",
    "\n",
    "# Configurer une graine aléatoire\n",
    "np.random.seed(42)\n",
    "\n",
    "# Divisez les données en X (caractéristiques/données) et y (cible/étiquettes)\n",
    "X = heart_disease.drop(\"target\", axis=1)\n",
    "y = heart_disease[\"target\"]\n",
    "\n",
    "# Divisé en ensembles de train et de test\n",
    "X_train, X_test, y_train, y_test = train_test_split(X, y, test_size=0.2)\n",
    "\n",
    "# Instancier et ajuster le modèle (sur l'ensemble d'entraînement)\n",
    "clf = RandomForestClassifier(n_estimators=100) # 100 est la valeur par défaut, mais vous pouvez essayer 1000 et voir ce qui se passe\n",
    "clf.fit(X_train, y_train)\n",
    "\n",
    "# Vérifiez le score du modèle (sur l'ensemble de test)\n",
    "clf.score(X_test, y_test)"
   ]
  },
  {
   "cell_type": "markdown",
   "metadata": {},
   "source": [
    "Il semble que les hyperparamètres par défaut de « RandomForestClassifier » ne fonctionnent pas aussi bien que « LinearSVC ».\n",
    "\n",
    "En plus d'essayer un autre modèle de classification, nous pourrions commencer à mener des expériences pour essayer d'améliorer ces modèles via un [réglage des hyperparamètres](http://scikit-learn.org/stable/modules/grid_search.html).\n",
    "\n",
    "Le réglage des hyperparamètres est un terme sophistiqué pour ajuster certains paramètres d'un modèle afin d'essayer de l'améliorer.\n",
    "\n",
    "Cela se produit généralement une fois que vous avez trouvé un modèle de base décent que vous souhaitez améliorer.\n",
    "\n",
    "Dans ce cas, nous pourrions prendre soit le `RandomForestClassifier`, soit le `LinearSVC` et essayer de l'améliorer avec le réglage des hyperparamètres (que nous verrons plus tard).\n",
    "\n",
    "Par exemple, vous pouvez essayer de prendre le paramètre « n_estimators » (le nombre d'arbres dans la forêt) de « RandomForestClassifier » et le changer de « 100 » (par défaut) à « 1000 » et voir ce qui se passe."
   ]
  },
  {
   "cell_type": "markdown",
   "metadata": {},
   "source": [
    "### Et les autres modèles ?\n",
    "\n",
    "En regardant l'aide-mémoire de l'aglorithme Scikit-Learn et les exemples ci-dessus, vous avez peut-être remarqué que nous avons ignoré quelques modèles.\n",
    "\n",
    "Pourquoi?\n",
    "\n",
    "La première raison est le temps.\n",
    "\n",
    "Couvrir chacun d’entre eux prendrait un peu plus de temps que ce que nous avons fait ici. Et le deuxième est l’efficacité des méthodes d’ensemble.\n",
    "\n",
    "Une petite information pour la modélisation en apprentissage automatique :\n",
    "* Si vous disposez de données structurées (tableaux, feuilles de calcul ou dataframes), utilisez des méthodes d'ensemble, telles qu'une forêt aléatoire.\n",
    "* Si vous disposez de données non structurées (texte, images, audio, éléments ne figurant pas dans des tableaux), utilisez le deep learning ou l'apprentissage par transfert (voir le ZTM [TensorFlow](https://dbourke.link/ZTMTFcourse?ref=mrdbourke.com) et [PyTorch](https://dbourke.link/ZTMpyTorch?ref=mrdbourke.com) cours pour en savoir plus sur l'apprentissage profond).\n",
    "\n",
    "Pour ce notebook, nous nous concentrons sur les données structurées, c'est pourquoi Random Forest a été notre modèle de choix.\n",
    "\n",
    "Si vous souhaitez en savoir plus sur Random Forest et pourquoi c'est le cheval de guerre de l'apprentissage automatique, consultez ces ressources :\n",
    "* [Wikipédia de la forêt aléatoire](https://en.wikipedia.org/wiki/Random_forest)\n",
    "* [Une implémentation et une explication de la forêt aléatoire en Python](https://towardsdatascience.com/an-implementation-and-explanation-of-the-random-forest-in-python-77bf308a9b76) par Will Koehrsen"
   ]
  },
  {
   "cell_type": "markdown",
   "metadata": {},
   "source": [
    "### Expérimentez jusqu'à ce que quelque chose fonctionne\n",
    "\n",
    "Ce qui est beau, c'est que la façon dont l'API Scikit-Learn est conçue, une fois que vous connaissez le fonctionnement d'un modèle, en utiliser un autre est à peu près la même.\n",
    "\n",
    "Et comme une grande partie du métier d'ingénieur en apprentissage automatique ou de data scientist consiste à expérimenter, vous voudrez peut-être essayer certains des autres modèles de l'aide-mémoire et voir comment vous vous en sortez. Plus vous réduisez le temps entre les expériences, mieux c’est."
   ]
  }
 ],
 "metadata": {
  "kernelspec": {
   "display_name": "Python 3 (ipykernel)",
   "language": "python",
   "name": "python3"
  },
  "language_info": {
   "codemirror_mode": {
    "name": "ipython",
    "version": 3
   },
   "file_extension": ".py",
   "mimetype": "text/x-python",
   "name": "python",
   "nbconvert_exporter": "python",
   "pygments_lexer": "ipython3",
   "version": "3.8.9"
  },
  "vscode": {
   "interpreter": {
    "hash": "c556f6eb84b27a92005489cdcf9c9b80cc62ee891441f20eabfc5ad7282165a3"
   }
  }
 },
 "nbformat": 4,
 "nbformat_minor": 4
}
